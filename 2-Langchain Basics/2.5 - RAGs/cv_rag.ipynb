{
 "cells": [
  {
   "cell_type": "code",
   "execution_count": 1,
   "id": "b512b9d8",
   "metadata": {},
   "outputs": [],
   "source": [
    "from langchain_community.document_loaders import PyPDFLoader"
   ]
  },
  {
   "cell_type": "code",
   "execution_count": 3,
   "id": "4f2b9360",
   "metadata": {},
   "outputs": [],
   "source": [
    "FILE_PATH=r\"C:\\Users\\Anilchoudary R\\Gitrepos\\langchain_playground\\data\\CV_Anilchoudary_Rugaramji_English.pdf\""
   ]
  },
  {
   "cell_type": "code",
   "execution_count": 5,
   "id": "671483ac",
   "metadata": {},
   "outputs": [
    {
     "data": {
      "text/plain": [
       "[Document(metadata={'producer': 'Canva', 'creator': 'Canva', 'creationdate': '2025-06-14T11:41:12+00:00', 'title': 'Blue minimalist business Resume CV', 'moddate': '2025-06-14T11:41:11+00:00', 'keywords': 'DAGpOoJe7Ig,BAGpOVjcSGo,0', 'author': 'Anilchoudary', 'source': 'C:\\\\Users\\\\Anilchoudary R\\\\Gitrepos\\\\langchain_playground\\\\data\\\\CV_Anilchoudary_Rugaramji_English.pdf', 'total_pages': 2, 'page': 0, 'page_label': '1'}, page_content='Feature Development for SAP - DMS Adapter Product\\nDeveloped and enhanced backend features using Go and frontend components with Angular for a connector product\\nthat enables SAP ERP customers to integrate seamlessly with d.velop documents.\\nImplemented unit, integration, and API tests to increase code coverage and reduce production defects.\\nProvided ongoing product support by resolving support tickets and collaborating with QA and support teams to\\nmaintain product quality.\\nActively participated in Agile/Scrum ceremonies, contributing to sprint planning and process improvements.\\nTech Stack: GitLab, Go, Angular, TypeScript, MongoDB\\nAI-Powered Product Assistant Chatbot\\nLeading the development of an AI-driven chatbot to assist users with product configurations, release updates, and in-\\ndepth documentation support.\\nLeveraging Generative AI techniques including Retrieval-Augmented Generation (RAG), Embeddings, and vector\\ndatabases to deliver accurate, contextual responses.\\nCollaborating cross-functionally to integrate the chatbot smoothly and improve overall user experience.\\nTech Stack: GitLab, Python, FastAPI, VectorDB, RAG, LLM, LangGraph, OpenAI Embeddings\\n10/2023 - PresentSoftware Development Engineer | Gescher, Germany| | \\nAnilchoudary Rugaramji\\n+491638659389\\nanilchoudary.r@gmail.com\\nFlörbachstr 13, 48683, Ahaus\\nGitHub References\\nWORK EXPERIENCE\\nPROFILE\\nSoftware Development Engineer with over 3.5 years of experience in full-stack development, contributing to the design\\nand implementation of key features in web applications. Currently focused on developing intelligent chatbot solutions\\nusing Generative AI to enhance user interactions and automate workflows. Strong team player with a high drive to learn\\nand grow, experienced in Agile environments and effective in cross-functional collaboration.\\nANILCHOUDARY RUGARAMJI\\nSOFTWARE DEVELOPMENT ENGINEER\\nDeveloped a Python and Django-based web application for bridge load calculations, reducing manual effort by 60%\\nand improving load estimation accuracy.\\nDesigned responsive UI templates using HTML, CSS, Bootstrap, and jQuery to ensure an intuitive user experience.\\nDeployed and optimized the application on on-premises servers, enhancing performance and reliability.\\nTech Stack: GitHub, Python, Django, HTML, CSS, Bootstrap, JavaScript, IONOS Cloud\\n12/2022 -  09/2023Software Developer| | | Verden, Germany\\nTrained in Python and Django development, gaining exposure to Docker for containerization and Kubernetes for\\ndeployment and scaling.\\nWorked with Terraform to automate AWS cloud infrastructure and assisted in CI/CD pipeline management using\\nGit for version control.\\nTech Stack: Git, Python, Docker, Kubernetes, Terraform, AWS\\n05/2022 - 10/2022Junior Software Developer| | | Tumakuru, India'),\n",
       " Document(metadata={'producer': 'Canva', 'creator': 'Canva', 'creationdate': '2025-06-14T11:41:12+00:00', 'title': 'Blue minimalist business Resume CV', 'moddate': '2025-06-14T11:41:11+00:00', 'keywords': 'DAGpOoJe7Ig,BAGpOVjcSGo,0', 'author': 'Anilchoudary', 'source': 'C:\\\\Users\\\\Anilchoudary R\\\\Gitrepos\\\\langchain_playground\\\\data\\\\CV_Anilchoudary_Rugaramji_English.pdf', 'total_pages': 2, 'page': 1, 'page_label': '2'}, page_content='Analyzed vehicle service and sales data using SQL, Excel, and Python (Pandas, NumPy) to identify patterns and\\nsupport decision-making in regional service operations.\\nBuilt Tableau dashboards to visualize key performance metrics like service inflow and customer satisfaction,\\nimproving management reporting and trend tracking.\\nCollaborated with dealerships and customer care to implement feedback-driven process improvements,\\nincreasing the Customer Satisfaction Index from 8.5 to 9.2.\\nTech Stack: SQL, Excel, Tableau, Python (Pandas, NumPy, Matplotlib)\\n06/2016 - 06/2017Territory Executive | | | Bengaluru, India\\n04/2021 - 11/2021Master Thesis| | | Rostock, Germany\\nPreprocessed multiple psychological datasets, handling missing values, inconsistencies, and noise to ensure\\nreliable model inputs.\\nConducted exploratory data analysis, including seasonality decomposition, correlation analysis, and dimensionality\\nreduction using PCA and t-SNE, to identify key drivers and reduce feature redundancy.\\nDeveloped and benchmarked a range of forecasting models—including statistical approaches (ARIMA, SARIMA,\\nSARIMAX, FB Prophet) and machine learning models (XGBoost, LSTM)—achieving a significant accuracy increase\\nfrom 65% to 77% through feature integration and hyperparameter tuning.\\nTech Stack: Python (Pandas, NumPy, Scikit-learn, Statsmodels, PyTorch), FB Prophet, XGBoost, PCA, t-SNE,\\nMatplotlib, Seaborn, MySQL, LSTM\\nPROFESSIONAL SKILLS\\nLANGUAGES\\nEnglish — Proficient\\nGerman — Proficient\\nKannada — Native\\nHindi — Native\\nPROJECTS\\nSmart Archive - AI-driven document management system with automated semantic content sorting, manual\\nmetadata tagging, and advanced natural language search featuring summarization and Q&A capabilities.\\nDeveloping a personalized diet-based food recommendation system using LangGraph, RAG, and vector\\ndatabases to suggest nearby restaurants tailored to user preferences.\\nCERTIFICATIONS\\nEDUCATION\\nMaster in Computational\\nScience and Engineering (2.0) 04/2018 - 11/2021| | \\nBachelor in Mechanical\\nEngineering (1.5) 09/2012 - 05/2016| | Tumakuru, India\\nUniversity of Rostock| Rostock, Germany\\nSiddaganga Institute of\\nTechnology | \\nProgramming Languages: Go, Python, TypeScript, SQL\\nTools and Frameworks: Gin, Angular, Django, FastAPI, NumPy, Pandas, Matplotlib, Scikit-Learn, LangChain, Crew AI,\\nLangGraph, HuggingFace, RAGs, VectorDB, PyTorch, TensorFlow, Keras\\nFunctional Skills: Scrum-Agile methodology, MIRO, JIRA, Confluence, Linux\\nCloud and DevOps: AWS, GitLab, Docker, Kubernetes, CI/CD')]"
      ]
     },
     "execution_count": 5,
     "metadata": {},
     "output_type": "execute_result"
    }
   ],
   "source": [
    "loader = PyPDFLoader(FILE_PATH)\n",
    "loader.load()"
   ]
  },
  {
   "cell_type": "code",
   "execution_count": 10,
   "id": "566e8a40",
   "metadata": {},
   "outputs": [
    {
     "data": {
      "text/plain": [
       "2"
      ]
     },
     "execution_count": 10,
     "metadata": {},
     "output_type": "execute_result"
    }
   ],
   "source": [
    "len(loader.load())"
   ]
  },
  {
   "cell_type": "code",
   "execution_count": 13,
   "id": "392cf1a4",
   "metadata": {},
   "outputs": [],
   "source": [
    "pages = loader.load()"
   ]
  },
  {
   "cell_type": "code",
   "execution_count": 19,
   "id": "edd0d8ad",
   "metadata": {},
   "outputs": [],
   "source": [
    "## Chunking\n",
    "from langchain_text_splitters import RecursiveCharacterTextSplitter\n",
    "splitter = RecursiveCharacterTextSplitter(\n",
    "    chunk_size=500, # hyper parameter\n",
    "    chunk_overlap=50 # hyper parameter\n",
    ")"
   ]
  },
  {
   "cell_type": "code",
   "execution_count": 21,
   "id": "ee2f8177",
   "metadata": {},
   "outputs": [],
   "source": [
    "splitted_docs = splitter.split_documents(pages)"
   ]
  },
  {
   "cell_type": "code",
   "execution_count": 23,
   "id": "fba90928",
   "metadata": {},
   "outputs": [
    {
     "data": {
      "text/plain": [
       "13"
      ]
     },
     "execution_count": 23,
     "metadata": {},
     "output_type": "execute_result"
    }
   ],
   "source": [
    "len(splitted_docs)"
   ]
  },
  {
   "cell_type": "code",
   "execution_count": 26,
   "id": "7628f964",
   "metadata": {},
   "outputs": [],
   "source": [
    "from langchain_huggingface import HuggingFaceEmbeddings\n",
    "embeddings=HuggingFaceEmbeddings(model_name=\"all-MiniLM-L6-v2\")"
   ]
  },
  {
   "cell_type": "code",
   "execution_count": 27,
   "id": "d10b8805",
   "metadata": {},
   "outputs": [],
   "source": [
    "# vector DB\n",
    "import faiss\n",
    "from langchain_community.vectorstores import FAISS\n",
    "from langchain_community.docstore.in_memory import InMemoryDocstore\n",
    "\n",
    "index=faiss.IndexFlatL2(384)\n",
    "\n",
    "vector_store=FAISS(\n",
    "    index=index, \n",
    "    embedding_function=embeddings,\n",
    "    docstore=InMemoryDocstore(),\n",
    "    index_to_docstore_id={}\n",
    "\n",
    ")"
   ]
  },
  {
   "cell_type": "code",
   "execution_count": 28,
   "id": "cb7450b4",
   "metadata": {},
   "outputs": [
    {
     "data": {
      "text/plain": [
       "['415857ae-baaa-4c8a-b984-f118910a8229',\n",
       " '77cc21e3-1e89-4752-8877-1fc34e6a6829',\n",
       " 'fe5ad10c-1b1c-4e43-82bc-c7799829b195',\n",
       " '1b609423-431a-467c-b593-c6fc386f2d25',\n",
       " '0150e471-e742-44f1-9b70-cd4272aa0d0b',\n",
       " 'befd2363-3b64-4304-8774-be5cc382f1f8',\n",
       " 'ec16be87-b780-4fa0-b70e-28e6527ea854',\n",
       " 'dd956ecf-f39b-42ae-bf7e-cb07d2885d50',\n",
       " 'e89ebcee-579b-4024-b947-cefb31d641fc',\n",
       " '69a65c03-0741-48ef-b110-edf7efc384a8',\n",
       " '3cac45ed-253e-42fa-8174-497b2af737b7',\n",
       " '4617e868-e7a5-4b9a-bb88-55738f772e2d',\n",
       " '8bae0467-6417-4b68-9771-729ef55af923']"
      ]
     },
     "execution_count": 28,
     "metadata": {},
     "output_type": "execute_result"
    }
   ],
   "source": [
    "vector_store.add_documents(splitted_docs)"
   ]
  },
  {
   "cell_type": "code",
   "execution_count": 36,
   "id": "3541d1ce",
   "metadata": {},
   "outputs": [],
   "source": [
    "retriver = vector_store.as_retriever(\n",
    "    search_kwargs={\"k\":10}\n",
    ")"
   ]
  },
  {
   "cell_type": "code",
   "execution_count": 37,
   "id": "3fa405f5",
   "metadata": {},
   "outputs": [
    {
     "data": {
      "text/plain": [
       "[Document(id='415857ae-baaa-4c8a-b984-f118910a8229', metadata={'producer': 'Canva', 'creator': 'Canva', 'creationdate': '2025-06-14T11:41:12+00:00', 'title': 'Blue minimalist business Resume CV', 'moddate': '2025-06-14T11:41:11+00:00', 'keywords': 'DAGpOoJe7Ig,BAGpOVjcSGo,0', 'author': 'Anilchoudary', 'source': 'C:\\\\Users\\\\Anilchoudary R\\\\Gitrepos\\\\langchain_playground\\\\data\\\\CV_Anilchoudary_Rugaramji_English.pdf', 'total_pages': 2, 'page': 0, 'page_label': '1'}, page_content='Feature Development for SAP - DMS Adapter Product\\nDeveloped and enhanced backend features using Go and frontend components with Angular for a connector product\\nthat enables SAP ERP customers to integrate seamlessly with d.velop documents.\\nImplemented unit, integration, and API tests to increase code coverage and reduce production defects.\\nProvided ongoing product support by resolving support tickets and collaborating with QA and support teams to\\nmaintain product quality.'),\n",
       " Document(id='ec16be87-b780-4fa0-b70e-28e6527ea854', metadata={'producer': 'Canva', 'creator': 'Canva', 'creationdate': '2025-06-14T11:41:12+00:00', 'title': 'Blue minimalist business Resume CV', 'moddate': '2025-06-14T11:41:11+00:00', 'keywords': 'DAGpOoJe7Ig,BAGpOVjcSGo,0', 'author': 'Anilchoudary', 'source': 'C:\\\\Users\\\\Anilchoudary R\\\\Gitrepos\\\\langchain_playground\\\\data\\\\CV_Anilchoudary_Rugaramji_English.pdf', 'total_pages': 2, 'page': 0, 'page_label': '1'}, page_content='05/2022 - 10/2022Junior Software Developer| | | Tumakuru, India'),\n",
       " Document(id='8bae0467-6417-4b68-9771-729ef55af923', metadata={'producer': 'Canva', 'creator': 'Canva', 'creationdate': '2025-06-14T11:41:12+00:00', 'title': 'Blue minimalist business Resume CV', 'moddate': '2025-06-14T11:41:11+00:00', 'keywords': 'DAGpOoJe7Ig,BAGpOVjcSGo,0', 'author': 'Anilchoudary', 'source': 'C:\\\\Users\\\\Anilchoudary R\\\\Gitrepos\\\\langchain_playground\\\\data\\\\CV_Anilchoudary_Rugaramji_English.pdf', 'total_pages': 2, 'page': 1, 'page_label': '2'}, page_content='LangGraph, HuggingFace, RAGs, VectorDB, PyTorch, TensorFlow, Keras\\nFunctional Skills: Scrum-Agile methodology, MIRO, JIRA, Confluence, Linux\\nCloud and DevOps: AWS, GitLab, Docker, Kubernetes, CI/CD'),\n",
       " Document(id='77cc21e3-1e89-4752-8877-1fc34e6a6829', metadata={'producer': 'Canva', 'creator': 'Canva', 'creationdate': '2025-06-14T11:41:12+00:00', 'title': 'Blue minimalist business Resume CV', 'moddate': '2025-06-14T11:41:11+00:00', 'keywords': 'DAGpOoJe7Ig,BAGpOVjcSGo,0', 'author': 'Anilchoudary', 'source': 'C:\\\\Users\\\\Anilchoudary R\\\\Gitrepos\\\\langchain_playground\\\\data\\\\CV_Anilchoudary_Rugaramji_English.pdf', 'total_pages': 2, 'page': 0, 'page_label': '1'}, page_content='maintain product quality.\\nActively participated in Agile/Scrum ceremonies, contributing to sprint planning and process improvements.\\nTech Stack: GitLab, Go, Angular, TypeScript, MongoDB\\nAI-Powered Product Assistant Chatbot\\nLeading the development of an AI-driven chatbot to assist users with product configurations, release updates, and in-\\ndepth documentation support.\\nLeveraging Generative AI techniques including Retrieval-Augmented Generation (RAG), Embeddings, and vector'),\n",
       " Document(id='befd2363-3b64-4304-8774-be5cc382f1f8', metadata={'producer': 'Canva', 'creator': 'Canva', 'creationdate': '2025-06-14T11:41:12+00:00', 'title': 'Blue minimalist business Resume CV', 'moddate': '2025-06-14T11:41:11+00:00', 'keywords': 'DAGpOoJe7Ig,BAGpOVjcSGo,0', 'author': 'Anilchoudary', 'source': 'C:\\\\Users\\\\Anilchoudary R\\\\Gitrepos\\\\langchain_playground\\\\data\\\\CV_Anilchoudary_Rugaramji_English.pdf', 'total_pages': 2, 'page': 0, 'page_label': '1'}, page_content='Tech Stack: GitHub, Python, Django, HTML, CSS, Bootstrap, JavaScript, IONOS Cloud\\n12/2022 -  09/2023Software Developer| | | Verden, Germany\\nTrained in Python and Django development, gaining exposure to Docker for containerization and Kubernetes for\\ndeployment and scaling.\\nWorked with Terraform to automate AWS cloud infrastructure and assisted in CI/CD pipeline management using\\nGit for version control.\\nTech Stack: Git, Python, Docker, Kubernetes, Terraform, AWS'),\n",
       " Document(id='1b609423-431a-467c-b593-c6fc386f2d25', metadata={'producer': 'Canva', 'creator': 'Canva', 'creationdate': '2025-06-14T11:41:12+00:00', 'title': 'Blue minimalist business Resume CV', 'moddate': '2025-06-14T11:41:11+00:00', 'keywords': 'DAGpOoJe7Ig,BAGpOVjcSGo,0', 'author': 'Anilchoudary', 'source': 'C:\\\\Users\\\\Anilchoudary R\\\\Gitrepos\\\\langchain_playground\\\\data\\\\CV_Anilchoudary_Rugaramji_English.pdf', 'total_pages': 2, 'page': 0, 'page_label': '1'}, page_content='GitHub References\\nWORK EXPERIENCE\\nPROFILE\\nSoftware Development Engineer with over 3.5 years of experience in full-stack development, contributing to the design\\nand implementation of key features in web applications. Currently focused on developing intelligent chatbot solutions\\nusing Generative AI to enhance user interactions and automate workflows. Strong team player with a high drive to learn\\nand grow, experienced in Agile environments and effective in cross-functional collaboration.'),\n",
       " Document(id='fe5ad10c-1b1c-4e43-82bc-c7799829b195', metadata={'producer': 'Canva', 'creator': 'Canva', 'creationdate': '2025-06-14T11:41:12+00:00', 'title': 'Blue minimalist business Resume CV', 'moddate': '2025-06-14T11:41:11+00:00', 'keywords': 'DAGpOoJe7Ig,BAGpOVjcSGo,0', 'author': 'Anilchoudary', 'source': 'C:\\\\Users\\\\Anilchoudary R\\\\Gitrepos\\\\langchain_playground\\\\data\\\\CV_Anilchoudary_Rugaramji_English.pdf', 'total_pages': 2, 'page': 0, 'page_label': '1'}, page_content='databases to deliver accurate, contextual responses.\\nCollaborating cross-functionally to integrate the chatbot smoothly and improve overall user experience.\\nTech Stack: GitLab, Python, FastAPI, VectorDB, RAG, LLM, LangGraph, OpenAI Embeddings\\n10/2023 - PresentSoftware Development Engineer | Gescher, Germany| | \\nAnilchoudary Rugaramji\\n+491638659389\\nanilchoudary.r@gmail.com\\nFlörbachstr 13, 48683, Ahaus\\nGitHub References\\nWORK EXPERIENCE\\nPROFILE'),\n",
       " Document(id='4617e868-e7a5-4b9a-bb88-55738f772e2d', metadata={'producer': 'Canva', 'creator': 'Canva', 'creationdate': '2025-06-14T11:41:12+00:00', 'title': 'Blue minimalist business Resume CV', 'moddate': '2025-06-14T11:41:11+00:00', 'keywords': 'DAGpOoJe7Ig,BAGpOVjcSGo,0', 'author': 'Anilchoudary', 'source': 'C:\\\\Users\\\\Anilchoudary R\\\\Gitrepos\\\\langchain_playground\\\\data\\\\CV_Anilchoudary_Rugaramji_English.pdf', 'total_pages': 2, 'page': 1, 'page_label': '2'}, page_content='databases to suggest nearby restaurants tailored to user preferences.\\nCERTIFICATIONS\\nEDUCATION\\nMaster in Computational\\nScience and Engineering (2.0) 04/2018 - 11/2021| | \\nBachelor in Mechanical\\nEngineering (1.5) 09/2012 - 05/2016| | Tumakuru, India\\nUniversity of Rostock| Rostock, Germany\\nSiddaganga Institute of\\nTechnology | \\nProgramming Languages: Go, Python, TypeScript, SQL\\nTools and Frameworks: Gin, Angular, Django, FastAPI, NumPy, Pandas, Matplotlib, Scikit-Learn, LangChain, Crew AI,'),\n",
       " Document(id='dd956ecf-f39b-42ae-bf7e-cb07d2885d50', metadata={'producer': 'Canva', 'creator': 'Canva', 'creationdate': '2025-06-14T11:41:12+00:00', 'title': 'Blue minimalist business Resume CV', 'moddate': '2025-06-14T11:41:11+00:00', 'keywords': 'DAGpOoJe7Ig,BAGpOVjcSGo,0', 'author': 'Anilchoudary', 'source': 'C:\\\\Users\\\\Anilchoudary R\\\\Gitrepos\\\\langchain_playground\\\\data\\\\CV_Anilchoudary_Rugaramji_English.pdf', 'total_pages': 2, 'page': 1, 'page_label': '2'}, page_content='Analyzed vehicle service and sales data using SQL, Excel, and Python (Pandas, NumPy) to identify patterns and\\nsupport decision-making in regional service operations.\\nBuilt Tableau dashboards to visualize key performance metrics like service inflow and customer satisfaction,\\nimproving management reporting and trend tracking.\\nCollaborated with dealerships and customer care to implement feedback-driven process improvements,\\nincreasing the Customer Satisfaction Index from 8.5 to 9.2.'),\n",
       " Document(id='e89ebcee-579b-4024-b947-cefb31d641fc', metadata={'producer': 'Canva', 'creator': 'Canva', 'creationdate': '2025-06-14T11:41:12+00:00', 'title': 'Blue minimalist business Resume CV', 'moddate': '2025-06-14T11:41:11+00:00', 'keywords': 'DAGpOoJe7Ig,BAGpOVjcSGo,0', 'author': 'Anilchoudary', 'source': 'C:\\\\Users\\\\Anilchoudary R\\\\Gitrepos\\\\langchain_playground\\\\data\\\\CV_Anilchoudary_Rugaramji_English.pdf', 'total_pages': 2, 'page': 1, 'page_label': '2'}, page_content='Tech Stack: SQL, Excel, Tableau, Python (Pandas, NumPy, Matplotlib)\\n06/2016 - 06/2017Territory Executive | | | Bengaluru, India\\n04/2021 - 11/2021Master Thesis| | | Rostock, Germany\\nPreprocessed multiple psychological datasets, handling missing values, inconsistencies, and noise to ensure\\nreliable model inputs.\\nConducted exploratory data analysis, including seasonality decomposition, correlation analysis, and dimensionality')]"
      ]
     },
     "execution_count": 37,
     "metadata": {},
     "output_type": "execute_result"
    }
   ],
   "source": [
    "retriver.invoke(\"What are roles and responsibilites at d.velop AG\")"
   ]
  },
  {
   "cell_type": "code",
   "execution_count": 38,
   "id": "24d0be13",
   "metadata": {},
   "outputs": [],
   "source": [
    "from langchain_google_genai import ChatGoogleGenerativeAI\n",
    "model = ChatGoogleGenerativeAI(model=\"gemini-1.5-flash\")"
   ]
  },
  {
   "cell_type": "code",
   "execution_count": 39,
   "id": "a0c53456",
   "metadata": {},
   "outputs": [],
   "source": [
    "from langchain import hub\n",
    "prompt = hub.pull(\"rlm/rag-prompt\")"
   ]
  },
  {
   "cell_type": "code",
   "execution_count": 40,
   "id": "4e78253e",
   "metadata": {},
   "outputs": [],
   "source": [
    "import pprint"
   ]
  },
  {
   "cell_type": "code",
   "execution_count": 41,
   "id": "b2e6c634",
   "metadata": {},
   "outputs": [
    {
     "name": "stdout",
     "output_type": "stream",
     "text": [
      "[HumanMessagePromptTemplate(prompt=PromptTemplate(input_variables=['context', 'question'], input_types={}, partial_variables={}, template=\"You are an assistant for question-answering tasks. Use the following pieces of retrieved context to answer the question. If you don't know the answer, just say that you don't know. Use three sentences maximum and keep the answer concise.\\nQuestion: {question} \\nContext: {context} \\nAnswer:\"), additional_kwargs={})]\n"
     ]
    }
   ],
   "source": [
    "pprint.pprint(prompt.messages)"
   ]
  },
  {
   "cell_type": "code",
   "execution_count": 42,
   "id": "677dd552",
   "metadata": {},
   "outputs": [],
   "source": [
    "## context -- retriver#\n",
    "## prompt -- hub\n",
    "## model -- google\n",
    "## parser -- langchain"
   ]
  },
  {
   "cell_type": "code",
   "execution_count": 43,
   "id": "45fddecd",
   "metadata": {},
   "outputs": [],
   "source": [
    "from langchain_core.output_parsers import StrOutputParser\n",
    "from langchain_core.runnables import RunnablePassthrough\n",
    "\n",
    "\n",
    "\n"
   ]
  },
  {
   "cell_type": "code",
   "execution_count": 44,
   "id": "261e0721",
   "metadata": {},
   "outputs": [],
   "source": [
    "def format_docs(docs):\n",
    "    return \"\\n\\n\".join(doc.page_content for doc in docs)"
   ]
  },
  {
   "cell_type": "code",
   "execution_count": null,
   "id": "f09984c2",
   "metadata": {},
   "outputs": [],
   "source": [
    "rag_chain = (\n",
    "    {\"context\": retriver | format_docs, \"question\": RunnablePassthrough} \n",
    "    | prompt \n",
    "    | model\n",
    "    | StrOutputParser\n",
    ")"
   ]
  },
  {
   "cell_type": "code",
   "execution_count": 47,
   "id": "a7a2426e",
   "metadata": {},
   "outputs": [
    {
     "ename": "ValidationError",
     "evalue": "2 validation errors for RunnablePassthrough\nfunc.callable\n  Input should be callable [type=callable_type, input_value=\"What is Anil's work expe...in different companies?\", input_type=str]\n    For further information visit https://errors.pydantic.dev/2.11/v/callable_type\nfunc.callable\n  Input should be callable [type=callable_type, input_value=\"What is Anil's work expe...in different companies?\", input_type=str]\n    For further information visit https://errors.pydantic.dev/2.11/v/callable_type",
     "output_type": "error",
     "traceback": [
      "\u001b[31m---------------------------------------------------------------------------\u001b[39m",
      "\u001b[31mValidationError\u001b[39m                           Traceback (most recent call last)",
      "\u001b[36mCell\u001b[39m\u001b[36m \u001b[39m\u001b[32mIn[47]\u001b[39m\u001b[32m, line 1\u001b[39m\n\u001b[32m----> \u001b[39m\u001b[32m1\u001b[39m \u001b[43mrag_chain\u001b[49m\u001b[43m.\u001b[49m\u001b[43minvoke\u001b[49m\u001b[43m(\u001b[49m\u001b[33;43m\"\u001b[39;49m\u001b[33;43mWhat is Anil\u001b[39;49m\u001b[33;43m'\u001b[39;49m\u001b[33;43ms work experience in different companies?\u001b[39;49m\u001b[33;43m\"\u001b[39;49m\u001b[43m)\u001b[49m\n",
      "\u001b[36mFile \u001b[39m\u001b[32mc:\\Users\\Anilchoudary R\\Gitrepos\\langchain_playground\\myenv\\Lib\\site-packages\\langchain_core\\runnables\\base.py:3045\u001b[39m, in \u001b[36mRunnableSequence.invoke\u001b[39m\u001b[34m(self, input, config, **kwargs)\u001b[39m\n\u001b[32m   3043\u001b[39m \u001b[38;5;28;01mwith\u001b[39;00m set_config_context(config) \u001b[38;5;28;01mas\u001b[39;00m context:\n\u001b[32m   3044\u001b[39m     \u001b[38;5;28;01mif\u001b[39;00m i == \u001b[32m0\u001b[39m:\n\u001b[32m-> \u001b[39m\u001b[32m3045\u001b[39m         input_ = \u001b[43mcontext\u001b[49m\u001b[43m.\u001b[49m\u001b[43mrun\u001b[49m\u001b[43m(\u001b[49m\u001b[43mstep\u001b[49m\u001b[43m.\u001b[49m\u001b[43minvoke\u001b[49m\u001b[43m,\u001b[49m\u001b[43m \u001b[49m\u001b[43minput_\u001b[49m\u001b[43m,\u001b[49m\u001b[43m \u001b[49m\u001b[43mconfig\u001b[49m\u001b[43m,\u001b[49m\u001b[43m \u001b[49m\u001b[43m*\u001b[49m\u001b[43m*\u001b[49m\u001b[43mkwargs\u001b[49m\u001b[43m)\u001b[49m\n\u001b[32m   3046\u001b[39m     \u001b[38;5;28;01melse\u001b[39;00m:\n\u001b[32m   3047\u001b[39m         input_ = context.run(step.invoke, input_, config)\n",
      "\u001b[36mFile \u001b[39m\u001b[32mc:\\Users\\Anilchoudary R\\Gitrepos\\langchain_playground\\myenv\\Lib\\site-packages\\langchain_core\\runnables\\base.py:3774\u001b[39m, in \u001b[36mRunnableParallel.invoke\u001b[39m\u001b[34m(self, input, config, **kwargs)\u001b[39m\n\u001b[32m   3769\u001b[39m     \u001b[38;5;28;01mwith\u001b[39;00m get_executor_for_config(config) \u001b[38;5;28;01mas\u001b[39;00m executor:\n\u001b[32m   3770\u001b[39m         futures = [\n\u001b[32m   3771\u001b[39m             executor.submit(_invoke_step, step, \u001b[38;5;28minput\u001b[39m, config, key)\n\u001b[32m   3772\u001b[39m             \u001b[38;5;28;01mfor\u001b[39;00m key, step \u001b[38;5;129;01min\u001b[39;00m steps.items()\n\u001b[32m   3773\u001b[39m         ]\n\u001b[32m-> \u001b[39m\u001b[32m3774\u001b[39m         output = {key: \u001b[43mfuture\u001b[49m\u001b[43m.\u001b[49m\u001b[43mresult\u001b[49m\u001b[43m(\u001b[49m\u001b[43m)\u001b[49m \u001b[38;5;28;01mfor\u001b[39;00m key, future \u001b[38;5;129;01min\u001b[39;00m \u001b[38;5;28mzip\u001b[39m(steps, futures)}\n\u001b[32m   3775\u001b[39m \u001b[38;5;66;03m# finish the root run\u001b[39;00m\n\u001b[32m   3776\u001b[39m \u001b[38;5;28;01mexcept\u001b[39;00m \u001b[38;5;167;01mBaseException\u001b[39;00m \u001b[38;5;28;01mas\u001b[39;00m e:\n",
      "\u001b[36mFile \u001b[39m\u001b[32mD:\\E-Learning\\SWs\\miniconda\\Lib\\concurrent\\futures\\_base.py:449\u001b[39m, in \u001b[36mFuture.result\u001b[39m\u001b[34m(self, timeout)\u001b[39m\n\u001b[32m    447\u001b[39m     \u001b[38;5;28;01mraise\u001b[39;00m CancelledError()\n\u001b[32m    448\u001b[39m \u001b[38;5;28;01melif\u001b[39;00m \u001b[38;5;28mself\u001b[39m._state == FINISHED:\n\u001b[32m--> \u001b[39m\u001b[32m449\u001b[39m     \u001b[38;5;28;01mreturn\u001b[39;00m \u001b[38;5;28;43mself\u001b[39;49m\u001b[43m.\u001b[49m\u001b[43m__get_result\u001b[49m\u001b[43m(\u001b[49m\u001b[43m)\u001b[49m\n\u001b[32m    451\u001b[39m \u001b[38;5;28mself\u001b[39m._condition.wait(timeout)\n\u001b[32m    453\u001b[39m \u001b[38;5;28;01mif\u001b[39;00m \u001b[38;5;28mself\u001b[39m._state \u001b[38;5;129;01min\u001b[39;00m [CANCELLED, CANCELLED_AND_NOTIFIED]:\n",
      "\u001b[36mFile \u001b[39m\u001b[32mD:\\E-Learning\\SWs\\miniconda\\Lib\\concurrent\\futures\\_base.py:401\u001b[39m, in \u001b[36mFuture.__get_result\u001b[39m\u001b[34m(self)\u001b[39m\n\u001b[32m    399\u001b[39m \u001b[38;5;28;01mif\u001b[39;00m \u001b[38;5;28mself\u001b[39m._exception:\n\u001b[32m    400\u001b[39m     \u001b[38;5;28;01mtry\u001b[39;00m:\n\u001b[32m--> \u001b[39m\u001b[32m401\u001b[39m         \u001b[38;5;28;01mraise\u001b[39;00m \u001b[38;5;28mself\u001b[39m._exception\n\u001b[32m    402\u001b[39m     \u001b[38;5;28;01mfinally\u001b[39;00m:\n\u001b[32m    403\u001b[39m         \u001b[38;5;66;03m# Break a reference cycle with the exception in self._exception\u001b[39;00m\n\u001b[32m    404\u001b[39m         \u001b[38;5;28mself\u001b[39m = \u001b[38;5;28;01mNone\u001b[39;00m\n",
      "\u001b[36mFile \u001b[39m\u001b[32mD:\\E-Learning\\SWs\\miniconda\\Lib\\concurrent\\futures\\thread.py:59\u001b[39m, in \u001b[36m_WorkItem.run\u001b[39m\u001b[34m(self)\u001b[39m\n\u001b[32m     56\u001b[39m     \u001b[38;5;28;01mreturn\u001b[39;00m\n\u001b[32m     58\u001b[39m \u001b[38;5;28;01mtry\u001b[39;00m:\n\u001b[32m---> \u001b[39m\u001b[32m59\u001b[39m     result = \u001b[38;5;28;43mself\u001b[39;49m\u001b[43m.\u001b[49m\u001b[43mfn\u001b[49m\u001b[43m(\u001b[49m\u001b[43m*\u001b[49m\u001b[38;5;28;43mself\u001b[39;49m\u001b[43m.\u001b[49m\u001b[43margs\u001b[49m\u001b[43m,\u001b[49m\u001b[43m \u001b[49m\u001b[43m*\u001b[49m\u001b[43m*\u001b[49m\u001b[38;5;28;43mself\u001b[39;49m\u001b[43m.\u001b[49m\u001b[43mkwargs\u001b[49m\u001b[43m)\u001b[49m\n\u001b[32m     60\u001b[39m \u001b[38;5;28;01mexcept\u001b[39;00m \u001b[38;5;167;01mBaseException\u001b[39;00m \u001b[38;5;28;01mas\u001b[39;00m exc:\n\u001b[32m     61\u001b[39m     \u001b[38;5;28mself\u001b[39m.future.set_exception(exc)\n",
      "\u001b[36mFile \u001b[39m\u001b[32mc:\\Users\\Anilchoudary R\\Gitrepos\\langchain_playground\\myenv\\Lib\\site-packages\\langchain_core\\runnables\\base.py:3758\u001b[39m, in \u001b[36mRunnableParallel.invoke.<locals>._invoke_step\u001b[39m\u001b[34m(step, input_, config, key)\u001b[39m\n\u001b[32m   3752\u001b[39m child_config = patch_config(\n\u001b[32m   3753\u001b[39m     config,\n\u001b[32m   3754\u001b[39m     \u001b[38;5;66;03m# mark each step as a child run\u001b[39;00m\n\u001b[32m   3755\u001b[39m     callbacks=run_manager.get_child(\u001b[33mf\u001b[39m\u001b[33m\"\u001b[39m\u001b[33mmap:key:\u001b[39m\u001b[38;5;132;01m{\u001b[39;00mkey\u001b[38;5;132;01m}\u001b[39;00m\u001b[33m\"\u001b[39m),\n\u001b[32m   3756\u001b[39m )\n\u001b[32m   3757\u001b[39m \u001b[38;5;28;01mwith\u001b[39;00m set_config_context(child_config) \u001b[38;5;28;01mas\u001b[39;00m context:\n\u001b[32m-> \u001b[39m\u001b[32m3758\u001b[39m     \u001b[38;5;28;01mreturn\u001b[39;00m \u001b[43mcontext\u001b[49m\u001b[43m.\u001b[49m\u001b[43mrun\u001b[49m\u001b[43m(\u001b[49m\n\u001b[32m   3759\u001b[39m \u001b[43m        \u001b[49m\u001b[43mstep\u001b[49m\u001b[43m.\u001b[49m\u001b[43minvoke\u001b[49m\u001b[43m,\u001b[49m\n\u001b[32m   3760\u001b[39m \u001b[43m        \u001b[49m\u001b[43minput_\u001b[49m\u001b[43m,\u001b[49m\n\u001b[32m   3761\u001b[39m \u001b[43m        \u001b[49m\u001b[43mchild_config\u001b[49m\u001b[43m,\u001b[49m\n\u001b[32m   3762\u001b[39m \u001b[43m    \u001b[49m\u001b[43m)\u001b[49m\n",
      "\u001b[36mFile \u001b[39m\u001b[32mc:\\Users\\Anilchoudary R\\Gitrepos\\langchain_playground\\myenv\\Lib\\site-packages\\langchain_core\\runnables\\base.py:4772\u001b[39m, in \u001b[36mRunnableLambda.invoke\u001b[39m\u001b[34m(self, input, config, **kwargs)\u001b[39m\n\u001b[32m   4758\u001b[39m \u001b[38;5;250m\u001b[39m\u001b[33;03m\"\"\"Invoke this Runnable synchronously.\u001b[39;00m\n\u001b[32m   4759\u001b[39m \n\u001b[32m   4760\u001b[39m \u001b[33;03mArgs:\u001b[39;00m\n\u001b[32m   (...)\u001b[39m\u001b[32m   4769\u001b[39m \u001b[33;03m    TypeError: If the Runnable is a coroutine function.\u001b[39;00m\n\u001b[32m   4770\u001b[39m \u001b[33;03m\"\"\"\u001b[39;00m\n\u001b[32m   4771\u001b[39m \u001b[38;5;28;01mif\u001b[39;00m \u001b[38;5;28mhasattr\u001b[39m(\u001b[38;5;28mself\u001b[39m, \u001b[33m\"\u001b[39m\u001b[33mfunc\u001b[39m\u001b[33m\"\u001b[39m):\n\u001b[32m-> \u001b[39m\u001b[32m4772\u001b[39m     \u001b[38;5;28;01mreturn\u001b[39;00m \u001b[38;5;28;43mself\u001b[39;49m\u001b[43m.\u001b[49m\u001b[43m_call_with_config\u001b[49m\u001b[43m(\u001b[49m\n\u001b[32m   4773\u001b[39m \u001b[43m        \u001b[49m\u001b[38;5;28;43mself\u001b[39;49m\u001b[43m.\u001b[49m\u001b[43m_invoke\u001b[49m\u001b[43m,\u001b[49m\n\u001b[32m   4774\u001b[39m \u001b[43m        \u001b[49m\u001b[38;5;28;43minput\u001b[39;49m\u001b[43m,\u001b[49m\n\u001b[32m   4775\u001b[39m \u001b[43m        \u001b[49m\u001b[43mensure_config\u001b[49m\u001b[43m(\u001b[49m\u001b[43mconfig\u001b[49m\u001b[43m)\u001b[49m\u001b[43m,\u001b[49m\n\u001b[32m   4776\u001b[39m \u001b[43m        \u001b[49m\u001b[43m*\u001b[49m\u001b[43m*\u001b[49m\u001b[43mkwargs\u001b[49m\u001b[43m,\u001b[49m\n\u001b[32m   4777\u001b[39m \u001b[43m    \u001b[49m\u001b[43m)\u001b[49m\n\u001b[32m   4778\u001b[39m msg = \u001b[33m\"\u001b[39m\u001b[33mCannot invoke a coroutine function synchronously.Use `ainvoke` instead.\u001b[39m\u001b[33m\"\u001b[39m\n\u001b[32m   4779\u001b[39m \u001b[38;5;28;01mraise\u001b[39;00m \u001b[38;5;167;01mTypeError\u001b[39;00m(msg)\n",
      "\u001b[36mFile \u001b[39m\u001b[32mc:\\Users\\Anilchoudary R\\Gitrepos\\langchain_playground\\myenv\\Lib\\site-packages\\langchain_core\\runnables\\base.py:1940\u001b[39m, in \u001b[36mRunnable._call_with_config\u001b[39m\u001b[34m(self, func, input_, config, run_type, serialized, **kwargs)\u001b[39m\n\u001b[32m   1936\u001b[39m     child_config = patch_config(config, callbacks=run_manager.get_child())\n\u001b[32m   1937\u001b[39m     \u001b[38;5;28;01mwith\u001b[39;00m set_config_context(child_config) \u001b[38;5;28;01mas\u001b[39;00m context:\n\u001b[32m   1938\u001b[39m         output = cast(\n\u001b[32m   1939\u001b[39m             \u001b[33m\"\u001b[39m\u001b[33mOutput\u001b[39m\u001b[33m\"\u001b[39m,\n\u001b[32m-> \u001b[39m\u001b[32m1940\u001b[39m             \u001b[43mcontext\u001b[49m\u001b[43m.\u001b[49m\u001b[43mrun\u001b[49m\u001b[43m(\u001b[49m\n\u001b[32m   1941\u001b[39m \u001b[43m                \u001b[49m\u001b[43mcall_func_with_variable_args\u001b[49m\u001b[43m,\u001b[49m\u001b[43m  \u001b[49m\u001b[38;5;66;43;03m# type: ignore[arg-type]\u001b[39;49;00m\n\u001b[32m   1942\u001b[39m \u001b[43m                \u001b[49m\u001b[43mfunc\u001b[49m\u001b[43m,\u001b[49m\n\u001b[32m   1943\u001b[39m \u001b[43m                \u001b[49m\u001b[43minput_\u001b[49m\u001b[43m,\u001b[49m\n\u001b[32m   1944\u001b[39m \u001b[43m                \u001b[49m\u001b[43mconfig\u001b[49m\u001b[43m,\u001b[49m\n\u001b[32m   1945\u001b[39m \u001b[43m                \u001b[49m\u001b[43mrun_manager\u001b[49m\u001b[43m,\u001b[49m\n\u001b[32m   1946\u001b[39m \u001b[43m                \u001b[49m\u001b[43m*\u001b[49m\u001b[43m*\u001b[49m\u001b[43mkwargs\u001b[49m\u001b[43m,\u001b[49m\n\u001b[32m   1947\u001b[39m \u001b[43m            \u001b[49m\u001b[43m)\u001b[49m,\n\u001b[32m   1948\u001b[39m         )\n\u001b[32m   1949\u001b[39m \u001b[38;5;28;01mexcept\u001b[39;00m \u001b[38;5;167;01mBaseException\u001b[39;00m \u001b[38;5;28;01mas\u001b[39;00m e:\n\u001b[32m   1950\u001b[39m     run_manager.on_chain_error(e)\n",
      "\u001b[36mFile \u001b[39m\u001b[32mc:\\Users\\Anilchoudary R\\Gitrepos\\langchain_playground\\myenv\\Lib\\site-packages\\langchain_core\\runnables\\config.py:428\u001b[39m, in \u001b[36mcall_func_with_variable_args\u001b[39m\u001b[34m(func, input, config, run_manager, **kwargs)\u001b[39m\n\u001b[32m    426\u001b[39m \u001b[38;5;28;01mif\u001b[39;00m run_manager \u001b[38;5;129;01mis\u001b[39;00m \u001b[38;5;129;01mnot\u001b[39;00m \u001b[38;5;28;01mNone\u001b[39;00m \u001b[38;5;129;01mand\u001b[39;00m accepts_run_manager(func):\n\u001b[32m    427\u001b[39m     kwargs[\u001b[33m\"\u001b[39m\u001b[33mrun_manager\u001b[39m\u001b[33m\"\u001b[39m] = run_manager\n\u001b[32m--> \u001b[39m\u001b[32m428\u001b[39m \u001b[38;5;28;01mreturn\u001b[39;00m \u001b[43mfunc\u001b[49m\u001b[43m(\u001b[49m\u001b[38;5;28;43minput\u001b[39;49m\u001b[43m,\u001b[49m\u001b[43m \u001b[49m\u001b[43m*\u001b[49m\u001b[43m*\u001b[49m\u001b[43mkwargs\u001b[49m\u001b[43m)\u001b[49m\n",
      "\u001b[36mFile \u001b[39m\u001b[32mc:\\Users\\Anilchoudary R\\Gitrepos\\langchain_playground\\myenv\\Lib\\site-packages\\langchain_core\\runnables\\base.py:4630\u001b[39m, in \u001b[36mRunnableLambda._invoke\u001b[39m\u001b[34m(self, input_, run_manager, config, **kwargs)\u001b[39m\n\u001b[32m   4628\u001b[39m                 output = chunk\n\u001b[32m   4629\u001b[39m \u001b[38;5;28;01melse\u001b[39;00m:\n\u001b[32m-> \u001b[39m\u001b[32m4630\u001b[39m     output = \u001b[43mcall_func_with_variable_args\u001b[49m\u001b[43m(\u001b[49m\n\u001b[32m   4631\u001b[39m \u001b[43m        \u001b[49m\u001b[38;5;28;43mself\u001b[39;49m\u001b[43m.\u001b[49m\u001b[43mfunc\u001b[49m\u001b[43m,\u001b[49m\u001b[43m \u001b[49m\u001b[43minput_\u001b[49m\u001b[43m,\u001b[49m\u001b[43m \u001b[49m\u001b[43mconfig\u001b[49m\u001b[43m,\u001b[49m\u001b[43m \u001b[49m\u001b[43mrun_manager\u001b[49m\u001b[43m,\u001b[49m\u001b[43m \u001b[49m\u001b[43m*\u001b[49m\u001b[43m*\u001b[49m\u001b[43mkwargs\u001b[49m\n\u001b[32m   4632\u001b[39m \u001b[43m    \u001b[49m\u001b[43m)\u001b[49m\n\u001b[32m   4633\u001b[39m \u001b[38;5;66;03m# If the output is a Runnable, invoke it\u001b[39;00m\n\u001b[32m   4634\u001b[39m \u001b[38;5;28;01mif\u001b[39;00m \u001b[38;5;28misinstance\u001b[39m(output, Runnable):\n",
      "\u001b[36mFile \u001b[39m\u001b[32mc:\\Users\\Anilchoudary R\\Gitrepos\\langchain_playground\\myenv\\Lib\\site-packages\\langchain_core\\runnables\\config.py:428\u001b[39m, in \u001b[36mcall_func_with_variable_args\u001b[39m\u001b[34m(func, input, config, run_manager, **kwargs)\u001b[39m\n\u001b[32m    426\u001b[39m \u001b[38;5;28;01mif\u001b[39;00m run_manager \u001b[38;5;129;01mis\u001b[39;00m \u001b[38;5;129;01mnot\u001b[39;00m \u001b[38;5;28;01mNone\u001b[39;00m \u001b[38;5;129;01mand\u001b[39;00m accepts_run_manager(func):\n\u001b[32m    427\u001b[39m     kwargs[\u001b[33m\"\u001b[39m\u001b[33mrun_manager\u001b[39m\u001b[33m\"\u001b[39m] = run_manager\n\u001b[32m--> \u001b[39m\u001b[32m428\u001b[39m \u001b[38;5;28;01mreturn\u001b[39;00m \u001b[43mfunc\u001b[49m\u001b[43m(\u001b[49m\u001b[38;5;28;43minput\u001b[39;49m\u001b[43m,\u001b[49m\u001b[43m \u001b[49m\u001b[43m*\u001b[49m\u001b[43m*\u001b[49m\u001b[43mkwargs\u001b[49m\u001b[43m)\u001b[49m\n",
      "\u001b[36mFile \u001b[39m\u001b[32mc:\\Users\\Anilchoudary R\\Gitrepos\\langchain_playground\\myenv\\Lib\\site-packages\\langchain_core\\runnables\\passthrough.py:188\u001b[39m, in \u001b[36mRunnablePassthrough.__init__\u001b[39m\u001b[34m(self, func, afunc, input_type, **kwargs)\u001b[39m\n\u001b[32m    185\u001b[39m     afunc = func\n\u001b[32m    186\u001b[39m     func = \u001b[38;5;28;01mNone\u001b[39;00m\n\u001b[32m--> \u001b[39m\u001b[32m188\u001b[39m \u001b[38;5;28;43msuper\u001b[39;49m\u001b[43m(\u001b[49m\u001b[43m)\u001b[49m\u001b[43m.\u001b[49m\u001b[34;43m__init__\u001b[39;49m\u001b[43m(\u001b[49m\u001b[43mfunc\u001b[49m\u001b[43m=\u001b[49m\u001b[43mfunc\u001b[49m\u001b[43m,\u001b[49m\u001b[43m \u001b[49m\u001b[43mafunc\u001b[49m\u001b[43m=\u001b[49m\u001b[43mafunc\u001b[49m\u001b[43m,\u001b[49m\u001b[43m \u001b[49m\u001b[43minput_type\u001b[49m\u001b[43m=\u001b[49m\u001b[43minput_type\u001b[49m\u001b[43m,\u001b[49m\u001b[43m \u001b[49m\u001b[43m*\u001b[49m\u001b[43m*\u001b[49m\u001b[43mkwargs\u001b[49m\u001b[43m)\u001b[49m\n",
      "\u001b[36mFile \u001b[39m\u001b[32mc:\\Users\\Anilchoudary R\\Gitrepos\\langchain_playground\\myenv\\Lib\\site-packages\\langchain_core\\load\\serializable.py:130\u001b[39m, in \u001b[36mSerializable.__init__\u001b[39m\u001b[34m(self, *args, **kwargs)\u001b[39m\n\u001b[32m    128\u001b[39m \u001b[38;5;28;01mdef\u001b[39;00m\u001b[38;5;250m \u001b[39m\u001b[34m__init__\u001b[39m(\u001b[38;5;28mself\u001b[39m, *args: Any, **kwargs: Any) -> \u001b[38;5;28;01mNone\u001b[39;00m:\n\u001b[32m    129\u001b[39m \u001b[38;5;250m    \u001b[39m\u001b[33;03m\"\"\"\"\"\"\u001b[39;00m  \u001b[38;5;66;03m# noqa: D419\u001b[39;00m\n\u001b[32m--> \u001b[39m\u001b[32m130\u001b[39m     \u001b[38;5;28;43msuper\u001b[39;49m\u001b[43m(\u001b[49m\u001b[43m)\u001b[49m\u001b[43m.\u001b[49m\u001b[34;43m__init__\u001b[39;49m\u001b[43m(\u001b[49m\u001b[43m*\u001b[49m\u001b[43margs\u001b[49m\u001b[43m,\u001b[49m\u001b[43m \u001b[49m\u001b[43m*\u001b[49m\u001b[43m*\u001b[49m\u001b[43mkwargs\u001b[49m\u001b[43m)\u001b[49m\n",
      "\u001b[36mFile \u001b[39m\u001b[32mc:\\Users\\Anilchoudary R\\Gitrepos\\langchain_playground\\myenv\\Lib\\site-packages\\pydantic\\main.py:253\u001b[39m, in \u001b[36mBaseModel.__init__\u001b[39m\u001b[34m(self, **data)\u001b[39m\n\u001b[32m    251\u001b[39m \u001b[38;5;66;03m# `__tracebackhide__` tells pytest and some other tools to omit this function from tracebacks\u001b[39;00m\n\u001b[32m    252\u001b[39m __tracebackhide__ = \u001b[38;5;28;01mTrue\u001b[39;00m\n\u001b[32m--> \u001b[39m\u001b[32m253\u001b[39m validated_self = \u001b[38;5;28;43mself\u001b[39;49m\u001b[43m.\u001b[49m\u001b[43m__pydantic_validator__\u001b[49m\u001b[43m.\u001b[49m\u001b[43mvalidate_python\u001b[49m\u001b[43m(\u001b[49m\u001b[43mdata\u001b[49m\u001b[43m,\u001b[49m\u001b[43m \u001b[49m\u001b[43mself_instance\u001b[49m\u001b[43m=\u001b[49m\u001b[38;5;28;43mself\u001b[39;49m\u001b[43m)\u001b[49m\n\u001b[32m    254\u001b[39m \u001b[38;5;28;01mif\u001b[39;00m \u001b[38;5;28mself\u001b[39m \u001b[38;5;129;01mis\u001b[39;00m \u001b[38;5;129;01mnot\u001b[39;00m validated_self:\n\u001b[32m    255\u001b[39m     warnings.warn(\n\u001b[32m    256\u001b[39m         \u001b[33m'\u001b[39m\u001b[33mA custom validator is returning a value other than `self`.\u001b[39m\u001b[38;5;130;01m\\n\u001b[39;00m\u001b[33m'\u001b[39m\n\u001b[32m    257\u001b[39m         \u001b[33m\"\u001b[39m\u001b[33mReturning anything other than `self` from a top level model validator isn\u001b[39m\u001b[33m'\u001b[39m\u001b[33mt supported when validating via `__init__`.\u001b[39m\u001b[38;5;130;01m\\n\u001b[39;00m\u001b[33m\"\u001b[39m\n\u001b[32m    258\u001b[39m         \u001b[33m'\u001b[39m\u001b[33mSee the `model_validator` docs (https://docs.pydantic.dev/latest/concepts/validators/#model-validators) for more details.\u001b[39m\u001b[33m'\u001b[39m,\n\u001b[32m    259\u001b[39m         stacklevel=\u001b[32m2\u001b[39m,\n\u001b[32m    260\u001b[39m     )\n",
      "\u001b[31mValidationError\u001b[39m: 2 validation errors for RunnablePassthrough\nfunc.callable\n  Input should be callable [type=callable_type, input_value=\"What is Anil's work expe...in different companies?\", input_type=str]\n    For further information visit https://errors.pydantic.dev/2.11/v/callable_type\nfunc.callable\n  Input should be callable [type=callable_type, input_value=\"What is Anil's work expe...in different companies?\", input_type=str]\n    For further information visit https://errors.pydantic.dev/2.11/v/callable_type"
     ]
    }
   ],
   "source": [
    "rag_chain.invoke(\"What is Anil's work experience in different companies?\")"
   ]
  },
  {
   "cell_type": "code",
   "execution_count": null,
   "id": "49a97135",
   "metadata": {},
   "outputs": [],
   "source": []
  }
 ],
 "metadata": {
  "kernelspec": {
   "display_name": "myenv",
   "language": "python",
   "name": "python3"
  },
  "language_info": {
   "codemirror_mode": {
    "name": "ipython",
    "version": 3
   },
   "file_extension": ".py",
   "mimetype": "text/x-python",
   "name": "python",
   "nbconvert_exporter": "python",
   "pygments_lexer": "ipython3",
   "version": "3.13.2"
  }
 },
 "nbformat": 4,
 "nbformat_minor": 5
}

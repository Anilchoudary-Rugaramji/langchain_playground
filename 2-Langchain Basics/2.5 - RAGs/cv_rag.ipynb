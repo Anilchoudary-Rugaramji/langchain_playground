{
 "cells": [
  {
   "cell_type": "code",
   "execution_count": 1,
   "id": "b512b9d8",
   "metadata": {},
   "outputs": [],
   "source": [
    "from langchain_community.document_loaders import PyPDFLoader"
   ]
  },
  {
   "cell_type": "code",
   "execution_count": 3,
   "id": "4f2b9360",
   "metadata": {},
   "outputs": [],
   "source": [
    "FILE_PATH=r\"C:\\Users\\Anilchoudary R\\Gitrepos\\langchain_playground\\data\\CV_Anilchoudary_Rugaramji_English.pdf\""
   ]
  },
  {
   "cell_type": "code",
   "execution_count": 5,
   "id": "671483ac",
   "metadata": {},
   "outputs": [
    {
     "data": {
      "text/plain": [
       "[Document(metadata={'producer': 'Canva', 'creator': 'Canva', 'creationdate': '2025-06-14T11:41:12+00:00', 'title': 'Blue minimalist business Resume CV', 'moddate': '2025-06-14T11:41:11+00:00', 'keywords': 'DAGpOoJe7Ig,BAGpOVjcSGo,0', 'author': 'Anilchoudary', 'source': 'C:\\\\Users\\\\Anilchoudary R\\\\Gitrepos\\\\langchain_playground\\\\data\\\\CV_Anilchoudary_Rugaramji_English.pdf', 'total_pages': 2, 'page': 0, 'page_label': '1'}, page_content='Feature Development for SAP - DMS Adapter Product\\nDeveloped and enhanced backend features using Go and frontend components with Angular for a connector product\\nthat enables SAP ERP customers to integrate seamlessly with d.velop documents.\\nImplemented unit, integration, and API tests to increase code coverage and reduce production defects.\\nProvided ongoing product support by resolving support tickets and collaborating with QA and support teams to\\nmaintain product quality.\\nActively participated in Agile/Scrum ceremonies, contributing to sprint planning and process improvements.\\nTech Stack: GitLab, Go, Angular, TypeScript, MongoDB\\nAI-Powered Product Assistant Chatbot\\nLeading the development of an AI-driven chatbot to assist users with product configurations, release updates, and in-\\ndepth documentation support.\\nLeveraging Generative AI techniques including Retrieval-Augmented Generation (RAG), Embeddings, and vector\\ndatabases to deliver accurate, contextual responses.\\nCollaborating cross-functionally to integrate the chatbot smoothly and improve overall user experience.\\nTech Stack: GitLab, Python, FastAPI, VectorDB, RAG, LLM, LangGraph, OpenAI Embeddings\\n10/2023 - PresentSoftware Development Engineer | Gescher, Germany| | \\nAnilchoudary Rugaramji\\n+491638659389\\nanilchoudary.r@gmail.com\\nFlörbachstr 13, 48683, Ahaus\\nGitHub References\\nWORK EXPERIENCE\\nPROFILE\\nSoftware Development Engineer with over 3.5 years of experience in full-stack development, contributing to the design\\nand implementation of key features in web applications. Currently focused on developing intelligent chatbot solutions\\nusing Generative AI to enhance user interactions and automate workflows. Strong team player with a high drive to learn\\nand grow, experienced in Agile environments and effective in cross-functional collaboration.\\nANILCHOUDARY RUGARAMJI\\nSOFTWARE DEVELOPMENT ENGINEER\\nDeveloped a Python and Django-based web application for bridge load calculations, reducing manual effort by 60%\\nand improving load estimation accuracy.\\nDesigned responsive UI templates using HTML, CSS, Bootstrap, and jQuery to ensure an intuitive user experience.\\nDeployed and optimized the application on on-premises servers, enhancing performance and reliability.\\nTech Stack: GitHub, Python, Django, HTML, CSS, Bootstrap, JavaScript, IONOS Cloud\\n12/2022 -  09/2023Software Developer| | | Verden, Germany\\nTrained in Python and Django development, gaining exposure to Docker for containerization and Kubernetes for\\ndeployment and scaling.\\nWorked with Terraform to automate AWS cloud infrastructure and assisted in CI/CD pipeline management using\\nGit for version control.\\nTech Stack: Git, Python, Docker, Kubernetes, Terraform, AWS\\n05/2022 - 10/2022Junior Software Developer| | | Tumakuru, India'),\n",
       " Document(metadata={'producer': 'Canva', 'creator': 'Canva', 'creationdate': '2025-06-14T11:41:12+00:00', 'title': 'Blue minimalist business Resume CV', 'moddate': '2025-06-14T11:41:11+00:00', 'keywords': 'DAGpOoJe7Ig,BAGpOVjcSGo,0', 'author': 'Anilchoudary', 'source': 'C:\\\\Users\\\\Anilchoudary R\\\\Gitrepos\\\\langchain_playground\\\\data\\\\CV_Anilchoudary_Rugaramji_English.pdf', 'total_pages': 2, 'page': 1, 'page_label': '2'}, page_content='Analyzed vehicle service and sales data using SQL, Excel, and Python (Pandas, NumPy) to identify patterns and\\nsupport decision-making in regional service operations.\\nBuilt Tableau dashboards to visualize key performance metrics like service inflow and customer satisfaction,\\nimproving management reporting and trend tracking.\\nCollaborated with dealerships and customer care to implement feedback-driven process improvements,\\nincreasing the Customer Satisfaction Index from 8.5 to 9.2.\\nTech Stack: SQL, Excel, Tableau, Python (Pandas, NumPy, Matplotlib)\\n06/2016 - 06/2017Territory Executive | | | Bengaluru, India\\n04/2021 - 11/2021Master Thesis| | | Rostock, Germany\\nPreprocessed multiple psychological datasets, handling missing values, inconsistencies, and noise to ensure\\nreliable model inputs.\\nConducted exploratory data analysis, including seasonality decomposition, correlation analysis, and dimensionality\\nreduction using PCA and t-SNE, to identify key drivers and reduce feature redundancy.\\nDeveloped and benchmarked a range of forecasting models—including statistical approaches (ARIMA, SARIMA,\\nSARIMAX, FB Prophet) and machine learning models (XGBoost, LSTM)—achieving a significant accuracy increase\\nfrom 65% to 77% through feature integration and hyperparameter tuning.\\nTech Stack: Python (Pandas, NumPy, Scikit-learn, Statsmodels, PyTorch), FB Prophet, XGBoost, PCA, t-SNE,\\nMatplotlib, Seaborn, MySQL, LSTM\\nPROFESSIONAL SKILLS\\nLANGUAGES\\nEnglish — Proficient\\nGerman — Proficient\\nKannada — Native\\nHindi — Native\\nPROJECTS\\nSmart Archive - AI-driven document management system with automated semantic content sorting, manual\\nmetadata tagging, and advanced natural language search featuring summarization and Q&A capabilities.\\nDeveloping a personalized diet-based food recommendation system using LangGraph, RAG, and vector\\ndatabases to suggest nearby restaurants tailored to user preferences.\\nCERTIFICATIONS\\nEDUCATION\\nMaster in Computational\\nScience and Engineering (2.0) 04/2018 - 11/2021| | \\nBachelor in Mechanical\\nEngineering (1.5) 09/2012 - 05/2016| | Tumakuru, India\\nUniversity of Rostock| Rostock, Germany\\nSiddaganga Institute of\\nTechnology | \\nProgramming Languages: Go, Python, TypeScript, SQL\\nTools and Frameworks: Gin, Angular, Django, FastAPI, NumPy, Pandas, Matplotlib, Scikit-Learn, LangChain, Crew AI,\\nLangGraph, HuggingFace, RAGs, VectorDB, PyTorch, TensorFlow, Keras\\nFunctional Skills: Scrum-Agile methodology, MIRO, JIRA, Confluence, Linux\\nCloud and DevOps: AWS, GitLab, Docker, Kubernetes, CI/CD')]"
      ]
     },
     "execution_count": 5,
     "metadata": {},
     "output_type": "execute_result"
    }
   ],
   "source": [
    "loader = PyPDFLoader(FILE_PATH)\n",
    "loader.load()"
   ]
  },
  {
   "cell_type": "code",
   "execution_count": 10,
   "id": "566e8a40",
   "metadata": {},
   "outputs": [
    {
     "data": {
      "text/plain": [
       "2"
      ]
     },
     "execution_count": 10,
     "metadata": {},
     "output_type": "execute_result"
    }
   ],
   "source": [
    "len(loader.load())"
   ]
  },
  {
   "cell_type": "code",
   "execution_count": 13,
   "id": "392cf1a4",
   "metadata": {},
   "outputs": [],
   "source": [
    "pages = loader.load()"
   ]
  },
  {
   "cell_type": "code",
   "execution_count": 19,
   "id": "edd0d8ad",
   "metadata": {},
   "outputs": [],
   "source": [
    "## Chunking\n",
    "from langchain_text_splitters import RecursiveCharacterTextSplitter\n",
    "splitter = RecursiveCharacterTextSplitter(\n",
    "    chunk_size=500, # hyper parameter\n",
    "    chunk_overlap=50 # hyper parameter\n",
    ")"
   ]
  },
  {
   "cell_type": "code",
   "execution_count": 21,
   "id": "ee2f8177",
   "metadata": {},
   "outputs": [],
   "source": [
    "splitted_docs = splitter.split_documents(pages)"
   ]
  },
  {
   "cell_type": "code",
   "execution_count": 23,
   "id": "fba90928",
   "metadata": {},
   "outputs": [
    {
     "data": {
      "text/plain": [
       "13"
      ]
     },
     "execution_count": 23,
     "metadata": {},
     "output_type": "execute_result"
    }
   ],
   "source": [
    "len(splitted_docs)"
   ]
  },
  {
   "cell_type": "code",
   "execution_count": 26,
   "id": "7628f964",
   "metadata": {},
   "outputs": [],
   "source": [
    "from langchain_huggingface import HuggingFaceEmbeddings\n",
    "embeddings=HuggingFaceEmbeddings(model_name=\"all-MiniLM-L6-v2\")"
   ]
  },
  {
   "cell_type": "code",
   "execution_count": 27,
   "id": "d10b8805",
   "metadata": {},
   "outputs": [],
   "source": [
    "# vector DB\n",
    "import faiss\n",
    "from langchain_community.vectorstores import FAISS\n",
    "from langchain_community.docstore.in_memory import InMemoryDocstore\n",
    "\n",
    "index=faiss.IndexFlatL2(384)\n",
    "\n",
    "vector_store=FAISS(\n",
    "    index=index, \n",
    "    embedding_function=embeddings,\n",
    "    docstore=InMemoryDocstore(),\n",
    "    index_to_docstore_id={}\n",
    "\n",
    ")"
   ]
  },
  {
   "cell_type": "code",
   "execution_count": 28,
   "id": "cb7450b4",
   "metadata": {},
   "outputs": [
    {
     "data": {
      "text/plain": [
       "['415857ae-baaa-4c8a-b984-f118910a8229',\n",
       " '77cc21e3-1e89-4752-8877-1fc34e6a6829',\n",
       " 'fe5ad10c-1b1c-4e43-82bc-c7799829b195',\n",
       " '1b609423-431a-467c-b593-c6fc386f2d25',\n",
       " '0150e471-e742-44f1-9b70-cd4272aa0d0b',\n",
       " 'befd2363-3b64-4304-8774-be5cc382f1f8',\n",
       " 'ec16be87-b780-4fa0-b70e-28e6527ea854',\n",
       " 'dd956ecf-f39b-42ae-bf7e-cb07d2885d50',\n",
       " 'e89ebcee-579b-4024-b947-cefb31d641fc',\n",
       " '69a65c03-0741-48ef-b110-edf7efc384a8',\n",
       " '3cac45ed-253e-42fa-8174-497b2af737b7',\n",
       " '4617e868-e7a5-4b9a-bb88-55738f772e2d',\n",
       " '8bae0467-6417-4b68-9771-729ef55af923']"
      ]
     },
     "execution_count": 28,
     "metadata": {},
     "output_type": "execute_result"
    }
   ],
   "source": [
    "vector_store.add_documents(splitted_docs)"
   ]
  },
  {
   "cell_type": "code",
   "execution_count": 33,
   "id": "3541d1ce",
   "metadata": {},
   "outputs": [],
   "source": [
    "retriver = vector_store.as_retriever(\n",
    "    search_kwargs={\"k\":1}\n",
    ")"
   ]
  },
  {
   "cell_type": "code",
   "execution_count": 35,
   "id": "3fa405f5",
   "metadata": {},
   "outputs": [
    {
     "data": {
      "text/plain": [
       "[Document(id='415857ae-baaa-4c8a-b984-f118910a8229', metadata={'producer': 'Canva', 'creator': 'Canva', 'creationdate': '2025-06-14T11:41:12+00:00', 'title': 'Blue minimalist business Resume CV', 'moddate': '2025-06-14T11:41:11+00:00', 'keywords': 'DAGpOoJe7Ig,BAGpOVjcSGo,0', 'author': 'Anilchoudary', 'source': 'C:\\\\Users\\\\Anilchoudary R\\\\Gitrepos\\\\langchain_playground\\\\data\\\\CV_Anilchoudary_Rugaramji_English.pdf', 'total_pages': 2, 'page': 0, 'page_label': '1'}, page_content='Feature Development for SAP - DMS Adapter Product\\nDeveloped and enhanced backend features using Go and frontend components with Angular for a connector product\\nthat enables SAP ERP customers to integrate seamlessly with d.velop documents.\\nImplemented unit, integration, and API tests to increase code coverage and reduce production defects.\\nProvided ongoing product support by resolving support tickets and collaborating with QA and support teams to\\nmaintain product quality.')]"
      ]
     },
     "execution_count": 35,
     "metadata": {},
     "output_type": "execute_result"
    }
   ],
   "source": [
    "retriver.invoke(\"What are roles and responsibilites at d.velop AG\")"
   ]
  },
  {
   "cell_type": "code",
   "execution_count": null,
   "id": "24d0be13",
   "metadata": {},
   "outputs": [],
   "source": []
  }
 ],
 "metadata": {
  "kernelspec": {
   "display_name": "myenv",
   "language": "python",
   "name": "python3"
  },
  "language_info": {
   "codemirror_mode": {
    "name": "ipython",
    "version": 3
   },
   "file_extension": ".py",
   "mimetype": "text/x-python",
   "name": "python",
   "nbconvert_exporter": "python",
   "pygments_lexer": "ipython3",
   "version": "3.13.2"
  }
 },
 "nbformat": 4,
 "nbformat_minor": 5
}

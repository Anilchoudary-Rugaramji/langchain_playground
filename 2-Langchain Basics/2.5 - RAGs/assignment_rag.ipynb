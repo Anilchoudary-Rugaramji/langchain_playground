{
 "cells": [
  {
   "cell_type": "markdown",
   "id": "ea19169c",
   "metadata": {},
   "source": [
    "### Assignemnt : RAG\n",
    "1. Take a multiple pdf eith text, image, table etc\n",
    "2. fetch the data from the pdf ( at least 200 pages)\n",
    "3. if chunking(use the semantic chunking technique) required do chunking and then embedding\n",
    "4. store it inside the vector database(use any of them 1.mongodb 2.astradb 3.opensearch 4.milvus)\n",
    "5. create a index with all  three index machine(flat, hsnw, ivf)\n",
    "6. create a retriver pipeline\n",
    "7. check the retriver time( which one is faster)\n",
    "8. print the accuracy score of every similarity search\n",
    "9. perform the reranking either using BM25 or MMR ## research\n",
    "10. then write a Prompt template \n",
    "11. Generate a output through LLM\n",
    "12- render that output over the DOCx\n",
    "13. Additional tip one can follow sunny's rag playlist\n",
    "\n",
    "maintain this on github and share it "
   ]
  },
  {
   "cell_type": "markdown",
   "id": "c950e08d",
   "metadata": {},
   "source": []
  }
 ],
 "metadata": {
  "language_info": {
   "name": "python"
  }
 },
 "nbformat": 4,
 "nbformat_minor": 5
}

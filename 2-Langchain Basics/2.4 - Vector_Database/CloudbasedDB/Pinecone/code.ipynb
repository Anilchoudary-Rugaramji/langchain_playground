{
 "cells": [
  {
   "cell_type": "code",
   "execution_count": 16,
   "id": "a139d03a",
   "metadata": {},
   "outputs": [
    {
     "data": {
      "text/plain": [
       "True"
      ]
     },
     "execution_count": 16,
     "metadata": {},
     "output_type": "execute_result"
    }
   ],
   "source": [
    "from dotenv import load_dotenv\n",
    "load_dotenv()"
   ]
  },
  {
   "cell_type": "code",
   "execution_count": 17,
   "id": "4406ad99",
   "metadata": {},
   "outputs": [],
   "source": [
    "from langchain_huggingface import HuggingFaceEmbeddings\n",
    "embeddings= HuggingFaceEmbeddings(model_name=\"all-MiniLM-L6-v2\")"
   ]
  },
  {
   "cell_type": "code",
   "execution_count": 18,
   "id": "19874b29",
   "metadata": {},
   "outputs": [],
   "source": [
    "embedded_content = embeddings.embed_query(\"Hi, How are you\")"
   ]
  },
  {
   "cell_type": "code",
   "execution_count": 19,
   "id": "8f5c3a5f",
   "metadata": {},
   "outputs": [
    {
     "data": {
      "text/plain": [
       "384"
      ]
     },
     "execution_count": 19,
     "metadata": {},
     "output_type": "execute_result"
    }
   ],
   "source": [
    "len(embedded_content)"
   ]
  },
  {
   "cell_type": "code",
   "execution_count": 20,
   "id": "f6bbba00",
   "metadata": {},
   "outputs": [],
   "source": [
    "from langchain_google_genai import GoogleGenerativeAIEmbeddings\n",
    "embeddings = GoogleGenerativeAIEmbeddings(model=\"models/embedding-001\")\n",
    "embedded_content = embeddings.embed_query(\"Hi, How are you\")"
   ]
  },
  {
   "cell_type": "code",
   "execution_count": 21,
   "id": "c544b7f2",
   "metadata": {},
   "outputs": [
    {
     "data": {
      "text/plain": [
       "768"
      ]
     },
     "execution_count": 21,
     "metadata": {},
     "output_type": "execute_result"
    }
   ],
   "source": [
    "len(embedded_content)"
   ]
  },
  {
   "cell_type": "code",
   "execution_count": 29,
   "id": "af13adcd",
   "metadata": {},
   "outputs": [],
   "source": [
    "import os\n",
    "pc_api_key=os.getenv(\"PINECONE_API_KEY\")\n"
   ]
  },
  {
   "cell_type": "code",
   "execution_count": 30,
   "id": "f0448ca5",
   "metadata": {},
   "outputs": [],
   "source": [
    "from pinecone import Pinecone\n",
    "from pinecone import ServerlessSpec # Managed by the cloud provider\n",
    "pc = Pinecone(api_key=pc_api_key)\n",
    "pc_api_key=os.getenv(\"PINECONE_API_KEY\")\n",
    "index_name=\"agentic-ai-task\"\n",
    "\n"
   ]
  },
  {
   "cell_type": "code",
   "execution_count": 31,
   "id": "bb5e23f9",
   "metadata": {},
   "outputs": [],
   "source": [
    "# Creating a index\n",
    "if not pc.has_index(index_name):\n",
    "    pc.create_index(\n",
    "    name=index_name, \n",
    "    dimension=768,\n",
    "    metric=\"cosine\",\n",
    "    spec= ServerlessSpec(cloud=\"aws\", region=\"us-east-1\")\n",
    "\n",
    ")\n"
   ]
  },
  {
   "cell_type": "code",
   "execution_count": 32,
   "id": "766d3347",
   "metadata": {},
   "outputs": [],
   "source": [
    "# loading the index\n",
    "index = pc.Index(index_name )"
   ]
  },
  {
   "cell_type": "code",
   "execution_count": 33,
   "id": "d8ec76a0",
   "metadata": {},
   "outputs": [],
   "source": [
    "from langchain_pinecone import PineconeVectorStore\n",
    "vectorDB = PineconeVectorStore(index=index, embedding=embeddings,pinecone_api_key=pc_api_key)"
   ]
  },
  {
   "cell_type": "code",
   "execution_count": 34,
   "id": "090ba744",
   "metadata": {},
   "outputs": [
    {
     "data": {
      "text/plain": [
       "[Document(id='4cd54661-628c-4f71-8ef6-844e7c89d227', metadata={'source': 'tweet'}, page_content='Bulding an exciting new project with Langchain - come check it out!'),\n",
       " Document(id='674aa7d9-2819-4010-b805-bf2eae126c96', metadata={'source': 'tweet'}, page_content='Bulding an exciting new project with Langchain - come check it out!'),\n",
       " Document(id='ee48222e-0e6d-4b8b-8449-507b6d8aa6d1', metadata={'source': 'news'}, page_content='I had choclate chip pancakes and eggs for the breakfast this morning'),\n",
       " Document(id='d7cee374-dee7-4e9a-949f-2f1119913d52', metadata={'source': 'news'}, page_content='I had choclate chip pancakes and eggs for the breakfast this morning')]"
      ]
     },
     "execution_count": 34,
     "metadata": {},
     "output_type": "execute_result"
    }
   ],
   "source": [
    "# will give empty list, as no data is stored in it yet\n",
    "vectorDB.similarity_search(\"What is langchain\")"
   ]
  },
  {
   "cell_type": "code",
   "execution_count": 35,
   "id": "fa3d161c",
   "metadata": {},
   "outputs": [],
   "source": [
    "from uuid import uuid4\n",
    "\n",
    "from langchain_core.documents import Document\n",
    "\n",
    "document_1 = Document(\n",
    "    page_content=\"I had choclate chip pancakes and eggs for the breakfast this morning\",\n",
    "    metadata={\"source\":\"news\"},\n",
    ")\n",
    "\n",
    "document_2 = Document(\n",
    "    page_content=\"The weather forecast for tomorrow is cloudy iand overcast, with a high of 62 degress\",\n",
    "    metadata={\"source\":\"news\"},\n",
    ")\n",
    "\n",
    "document_3 = Document(\n",
    "    page_content=\"Bulding an exciting new project with Langchain - come check it out!\",\n",
    "    metadata={\"source\":\"tweet\"},\n",
    ")\n",
    "document_4 = Document(\n",
    "    page_content=\"Robbers broke into the city bank and stole $1 million in cash.\",\n",
    "    metadata={\"source\":\"news\"},\n",
    ")\n",
    "\n",
    "documents = [ document_1, document_2, document_3, document_4]\n"
   ]
  },
  {
   "cell_type": "code",
   "execution_count": 36,
   "id": "f8216bf5",
   "metadata": {},
   "outputs": [
    {
     "data": {
      "text/plain": [
       "['8a12a030-2aef-4d7a-a297-d97efb53b4f2',\n",
       " 'e65ac0d1-401a-4c20-9386-c3b8bfceeec8',\n",
       " '51d5a23e-99b4-4f54-b2e1-73361d1ed4f5',\n",
       " '9ed91d23-8119-41bf-938b-e1ce8b5b3f6f']"
      ]
     },
     "execution_count": 36,
     "metadata": {},
     "output_type": "execute_result"
    }
   ],
   "source": [
    "uuids = [str(uuid4()) for _ in range(len(documents))]\n",
    "uuids"
   ]
  },
  {
   "cell_type": "code",
   "execution_count": 37,
   "id": "d6aff8d4",
   "metadata": {},
   "outputs": [
    {
     "data": {
      "text/plain": [
       "['8a12a030-2aef-4d7a-a297-d97efb53b4f2',\n",
       " 'e65ac0d1-401a-4c20-9386-c3b8bfceeec8',\n",
       " '51d5a23e-99b4-4f54-b2e1-73361d1ed4f5',\n",
       " '9ed91d23-8119-41bf-938b-e1ce8b5b3f6f']"
      ]
     },
     "execution_count": 37,
     "metadata": {},
     "output_type": "execute_result"
    }
   ],
   "source": [
    "vectorDB.add_documents(documents=documents, ids=uuids)"
   ]
  },
  {
   "cell_type": "code",
   "execution_count": 38,
   "id": "d2c85aa8",
   "metadata": {},
   "outputs": [
    {
     "data": {
      "text/plain": [
       "[Document(id='4cd54661-628c-4f71-8ef6-844e7c89d227', metadata={'source': 'tweet'}, page_content='Bulding an exciting new project with Langchain - come check it out!')]"
      ]
     },
     "execution_count": 38,
     "metadata": {},
     "output_type": "execute_result"
    }
   ],
   "source": [
    "vectorDB.similarity_search(\"What is langchain\", k=1)"
   ]
  },
  {
   "cell_type": "code",
   "execution_count": 39,
   "id": "f04d83ea",
   "metadata": {},
   "outputs": [],
   "source": [
    "retriver = vectorDB.as_retriever(search_type=\"similarity_score_threshold\",\n",
    "                                 search_kwargs={\"k\":3, \"score_threshold\": 0.8}\n",
    "                                 )"
   ]
  },
  {
   "cell_type": "code",
   "execution_count": 40,
   "id": "805fd88c",
   "metadata": {},
   "outputs": [],
   "source": [
    "from langchain_google_genai import ChatGoogleGenerativeAI\n",
    "model = ChatGoogleGenerativeAI(model=\"gemini-1.5-flash\")"
   ]
  },
  {
   "cell_type": "code",
   "execution_count": 41,
   "id": "a130efb7",
   "metadata": {},
   "outputs": [],
   "source": [
    "from langchain import hub\n",
    "prompt = hub.pull(\"rlm/rag-prompt\")"
   ]
  },
  {
   "cell_type": "code",
   "execution_count": 42,
   "id": "38fd3b75",
   "metadata": {},
   "outputs": [
    {
     "name": "stdout",
     "output_type": "stream",
     "text": [
      "ChatPromptTemplate(input_variables=['context', 'question'], input_types={}, partial_variables={}, metadata={'lc_hub_owner': 'rlm', 'lc_hub_repo': 'rag-prompt', 'lc_hub_commit_hash': '50442af133e61576e74536c6556cefe1fac147cad032f4377b60c436e6cdcb6e'}, messages=[HumanMessagePromptTemplate(prompt=PromptTemplate(input_variables=['context', 'question'], input_types={}, partial_variables={}, template=\"You are an assistant for question-answering tasks. Use the following pieces of retrieved context to answer the question. If you don't know the answer, just say that you don't know. Use three sentences maximum and keep the answer concise.\\nQuestion: {question} \\nContext: {context} \\nAnswer:\"), additional_kwargs={})])\n"
     ]
    }
   ],
   "source": [
    "import pprint\n",
    "\n",
    "pprint.pprint(prompt)"
   ]
  },
  {
   "cell_type": "code",
   "execution_count": 43,
   "id": "e042ce09",
   "metadata": {},
   "outputs": [],
   "source": [
    "def format_docs(docs):\n",
    "    return \"\\n\\n\".join(doc.page_content for doc in docs)"
   ]
  },
  {
   "cell_type": "code",
   "execution_count": 44,
   "id": "a812dbdf",
   "metadata": {},
   "outputs": [],
   "source": [
    "from langchain_core.output_parsers import StrOutputParser\n",
    "from langchain_core.runnables import RunnablePassthrough"
   ]
  },
  {
   "cell_type": "code",
   "execution_count": 45,
   "id": "eca1bac8",
   "metadata": {},
   "outputs": [],
   "source": [
    "rag_chain = (\n",
    "    {\"context\": retriver | format_docs, \"question\": RunnablePassthrough()} \n",
    "    | prompt \n",
    "    | model\n",
    "    | StrOutputParser()\n",
    ")"
   ]
  },
  {
   "cell_type": "code",
   "execution_count": 46,
   "id": "955d4616",
   "metadata": {},
   "outputs": [
    {
     "data": {
      "text/plain": [
       "\"This morning's breakfast included chocolate chip pancakes and eggs.  The pancakes contained chocolate chips.  No further details about the pancakes are provided.\""
      ]
     },
     "execution_count": 46,
     "metadata": {},
     "output_type": "execute_result"
    }
   ],
   "source": [
    "rag_chain.invoke(\"tell me about the pancakes\")"
   ]
  },
  {
   "cell_type": "code",
   "execution_count": null,
   "id": "68a52fdd",
   "metadata": {},
   "outputs": [],
   "source": []
  }
 ],
 "metadata": {
  "kernelspec": {
   "display_name": "myenv",
   "language": "python",
   "name": "python3"
  },
  "language_info": {
   "codemirror_mode": {
    "name": "ipython",
    "version": 3
   },
   "file_extension": ".py",
   "mimetype": "text/x-python",
   "name": "python",
   "nbconvert_exporter": "python",
   "pygments_lexer": "ipython3",
   "version": "3.13.2"
  }
 },
 "nbformat": 4,
 "nbformat_minor": 5
}

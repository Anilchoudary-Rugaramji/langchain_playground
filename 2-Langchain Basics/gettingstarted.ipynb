{
 "cells": [
  {
   "cell_type": "code",
   "execution_count": 1,
   "id": "f55c2142",
   "metadata": {},
   "outputs": [
    {
     "data": {
      "text/plain": [
       "True"
      ]
     },
     "execution_count": 1,
     "metadata": {},
     "output_type": "execute_result"
    }
   ],
   "source": [
    "import os\n",
    "from dotenv import load_dotenv\n",
    "load_dotenv()"
   ]
  },
  {
   "cell_type": "code",
   "execution_count": 2,
   "id": "98c47136",
   "metadata": {},
   "outputs": [
    {
     "data": {
      "text/plain": [
       "'Agentic-AI'"
      ]
     },
     "execution_count": 2,
     "metadata": {},
     "output_type": "execute_result"
    }
   ],
   "source": [
    "os.getenv(\"LANGCHAIN_PROJECT\")"
   ]
  },
  {
   "cell_type": "code",
   "execution_count": 3,
   "id": "9f93d0d7",
   "metadata": {},
   "outputs": [],
   "source": [
    "os.environ[\"OPENAI_API_KEY\"]=os.getenv(\"OPENAI_API_KEY\")\n",
    "os.environ[\"GROQ_API_KEY\"]= os.getenv(\"GROQ_API_KEY\")\n",
    "os.environ[\"LANGCHAIN_API_KEY\"]=os.getenv(\"LANGCHAIN_API_KEY\")\n",
    "os.environ[\"LANGCHAIN_PROJECT\"]=os.getenv(\"LANGCHAIN_PROJECT\")\n",
    "os.environ[\"LANGCHAIN_TRACING_V2\"]=\"true\""
   ]
  },
  {
   "cell_type": "code",
   "execution_count": 4,
   "id": "db828c64",
   "metadata": {},
   "outputs": [
    {
     "name": "stdout",
     "output_type": "stream",
     "text": [
      "client=<openai.resources.chat.completions.completions.Completions object at 0x000001781016E7B0> async_client=<openai.resources.chat.completions.completions.AsyncCompletions object at 0x000001781016F230> root_client=<openai.OpenAI object at 0x0000017810005A90> root_async_client=<openai.AsyncOpenAI object at 0x000001781016E900> model_name='o1-mini' temperature=1.0 model_kwargs={} openai_api_key=SecretStr('**********')\n"
     ]
    }
   ],
   "source": [
    "\n",
    "from langchain_openai import ChatOpenAI\n",
    "llm = ChatOpenAI(model=\"o1-mini\")\n",
    "print(llm)"
   ]
  },
  {
   "cell_type": "code",
   "execution_count": 5,
   "id": "403560be",
   "metadata": {},
   "outputs": [
    {
     "data": {
      "text/plain": [
       "AIMessage(content='**Agentic AI** refers to artificial intelligence systems designed to act as autonomous agents capable of making decisions, pursuing goals, and performing actions with a degree of independence. Unlike traditional AI systems that follow predefined instructions or respond reactively to inputs, agentic AI possesses the ability to plan, adapt, and interact with environments in more sophisticated and goal-directed manners. This concept draws inspiration from the notion of an \"agent\" in fields like artificial intelligence, psychology, and philosophy, where an agent is an entity that perceives its environment and takes actions to achieve specific objectives.\\n\\n### Key Characteristics of Agentic AI\\n\\n1. **Autonomy**: Agentic AI systems operate with a level of independence, making decisions without continuous human intervention. They can set their own sub-goals and determine the best course of action to achieve overarching objectives.\\n\\n2. **Goal-Directed Behavior**: These AI agents are designed to pursue specific goals. They can prioritize tasks, allocate resources, and adjust strategies based on the progress toward their objectives.\\n\\n3. **Perception and Interaction**: Agentic AI can perceive its environment through sensors or data inputs and interact with it using actuators or interfaces. This perception-action loop allows the agent to respond dynamically to changes.\\n\\n4. **Learning and Adaptation**: Such systems often incorporate machine learning techniques to improve their performance over time. They can adapt to new information, learn from experiences, and refine their strategies accordingly.\\n\\n5. **Planning and Reasoning**: Agentic AI can engage in complex planning processes, anticipating future states and determining the most effective actions to achieve desired outcomes. This involves reasoning about cause and effect, constraints, and potential obstacles.\\n\\n### Examples of Agentic AI\\n\\n- **Autonomous Vehicles**: Self-driving cars are prime examples of agentic AI. They navigate environments, make real-time decisions to ensure safety and efficiency, and adapt to varying traffic conditions and unforeseen events.\\n\\n- **Virtual Assistants**: Advanced virtual assistants like AI-driven personal assistants can manage schedules, make recommendations, and perform tasks independently based on user preferences and contextual information.\\n\\n- **Robotic Systems**: Industrial robots equipped with AI capabilities can perform complex manufacturing tasks, adjust to changes in production lines, and optimize operations without constant human oversight.\\n\\n- **Smart Agents in Software**: In domains like finance or healthcare, agentic AI can monitor markets or patient data, make predictions, and take actions such as trading stocks or adjusting treatment plans autonomously.\\n\\n### Applications of Agentic AI\\n\\n1. **Healthcare**: Personalized medicine where AI agents manage patient treatment plans, monitor health metrics, and adjust therapies in real-time.\\n\\n2. **Finance**: Automated trading systems that make investment decisions based on market analysis and trends without human intervention.\\n\\n3. **Smart Homes and IoT**: Devices that manage home environments by learning user preferences, optimizing energy usage, and enhancing security autonomously.\\n\\n4. **Customer Service**: AI agents that handle customer inquiries, resolve issues, and improve service quality through continuous learning and interaction.\\n\\n### Advantages of Agentic AI\\n\\n- **Efficiency**: Automates routine and complex tasks, reducing the need for human intervention and increasing productivity.\\n  \\n- **Scalability**: Can manage large-scale operations and data processing beyond human capabilities.\\n\\n- **Consistency**: Delivers predictable and reliable performance, minimizing human errors.\\n\\n- **Adaptability**: Capable of adjusting to new situations and evolving requirements without extensive reprogramming.\\n\\n### Potential Risks and Considerations\\n\\n1. **Ethical Concerns**: Decisions made by agentic AI systems may lack transparency, leading to accountability issues, especially in critical areas like healthcare or justice.\\n\\n2. **Job Displacement**: Increased automation may result in the displacement of jobs, necessitating strategies for workforce transition and skill development.\\n\\n3. **Security**: Autonomous systems may be vulnerable to cyber-attacks or misuse, posing significant security risks.\\n\\n4. **Bias and Fairness**: AI agents can inadvertently perpetuate or amplify biases present in training data, leading to unfair or discriminatory outcomes.\\n\\n5. **Loss of Control**: High levels of autonomy may make it challenging to predict or control AI behavior, raising concerns about unintended consequences.\\n\\n### Future Directions\\n\\nThe development of agentic AI continues to advance, with ongoing research focused on enhancing autonomy, improving decision-making capabilities, and ensuring ethical and responsible deployment. Key areas of focus include:\\n\\n- **Explainability**: Developing methods to make AI decision-making processes more transparent and understandable to humans.\\n  \\n- **Collaboration**: Creating frameworks for AI agents to work alongside humans and other agents effectively.\\n\\n- **Regulation and Governance**: Establishing policies and standards to ensure the safe and ethical use of agentic AI technologies.\\n\\n- **Human-AI Interaction**: Enhancing the ways humans interact with autonomous agents to foster trust and effective cooperation.\\n\\n### Conclusion\\n\\nAgentic AI represents a significant leap towards creating more autonomous, intelligent, and adaptable systems capable of performing a wide range of tasks with minimal human intervention. While offering numerous benefits in terms of efficiency and innovation, it also presents challenges that require careful consideration to ensure that such technologies are developed and deployed responsibly. Balancing autonomy with ethical safeguards, transparency, and human oversight will be crucial in harnessing the full potential of agentic AI for the betterment of society.', additional_kwargs={'refusal': None}, response_metadata={'token_usage': {'completion_tokens': 1212, 'prompt_tokens': 13, 'total_tokens': 1225, 'completion_tokens_details': {'accepted_prediction_tokens': 0, 'audio_tokens': 0, 'reasoning_tokens': 128, 'rejected_prediction_tokens': 0}, 'prompt_tokens_details': {'audio_tokens': 0, 'cached_tokens': 0}}, 'model_name': 'o1-mini-2024-09-12', 'system_fingerprint': 'fp_3da8b0b088', 'id': 'chatcmpl-BdcpOULyWlKOviYX7Tz5cs4Iku6nR', 'service_tier': 'default', 'finish_reason': 'stop', 'logprobs': None}, id='run--8f22df90-86d9-4407-8ce7-84e7e1c9d256-0', usage_metadata={'input_tokens': 13, 'output_tokens': 1212, 'total_tokens': 1225, 'input_token_details': {'audio': 0, 'cache_read': 0}, 'output_token_details': {'audio': 0, 'reasoning': 128}})"
      ]
     },
     "execution_count": 5,
     "metadata": {},
     "output_type": "execute_result"
    }
   ],
   "source": [
    "llm.invoke(\"What is agentic AI\")"
   ]
  },
  {
   "cell_type": "code",
   "execution_count": 6,
   "id": "739338fc",
   "metadata": {},
   "outputs": [
    {
     "data": {
      "text/plain": [
       "AIMessage(content='\\n<think>\\nOkay, I need to explain what Agentic AI is. Let me start by recalling what I know. The term \"agentic\" relates to agency, which in philosophy refers to the capacity of an individual to act independently and make free choices. So, putting that together, Agentic AI might be AI that has some form of autonomy or agency. \\n\\nWait, but I should check if there\\'s a specific definition or popular usage of this term. I remember hearing about different types of AI, like reactive, limited memory, theory of mind, and self-aware. Maybe Agentic AI is part of that progression? Or perhaps it\\'s a newer concept.\\n\\nI think I\\'ve heard the term in the context of systems that can act autonomously to achieve goals. Maybe similar to General AI but with a focus on agency. But I need to be precise here. Let me think of examples. Autonomous vehicles, maybe? But those are more specific. Agentic AI could be a broader category.\\n\\nAlternatively, there\\'s the concept of \"AI agents,\" which are programs designed to perform tasks autonomously. So Agentic AI might refer to AI systems that function as autonomous agents. They can perceive their environment, make decisions, and act on their own, perhaps even learning and adapting over time.\\n\\nWait, but how does this differ from existing agent-based AI? Maybe it\\'s about the level of autonomy. Like, they can set their own goals and priorities. That sounds closer to Artificial General Intelligence (AGI), but maybe not as advanced as full AGI. Or perhaps it\\'s a specific approach where the AI has its own agency, acting in an environment to fulfill objectives, possibly with some degree of self-improvement.\\n\\nI should also consider if there\\'s any academic or industry-specific terminology here. Maybe in robotics, where autonomous robots have agency. Or in the field of AI ethics, discussing the implications of AI having too much agency. \\n\\nAnother angle: in some discussions, Agentic AI is presented as a step towards more advanced AI, where the system can not only perform tasks but also understand and adapt to the consequences of its actions. So it\\'s about having a sense of agency in decision-making processes.\\n\\nLet me structure this. Start with a definition: Agentic AI refers to AI systems designed to act autonomously, making decisions and taking actions in pursuit of specific goals, often in dynamic and unpredictable environments. They possess some level of self-direction and can adapt their behavior based on feedback and learning.\\n\\nThen, maybe break down the key characteristics:\\n\\n1. **Autonomy**: The AI can act without direct human intervention.\\n2. **Goal-Oriented Behavior**: It has objectives to achieve, which guide its actions.\\n3. **Adaptability**: It can learn and adjust strategies based on new information or changing conditions.\\n4. **Decision-Making Capacity**: It evaluates options and chooses the best course of action.\\n5. **Environmental Interaction**: It interacts with its environment to gather data and effect change.\\n\\nApplications would include things like autonomous vehicles, intelligent personal assistants, and complex systems like smart grids or industrial automation. However, there are ethical considerations, such as accountability issues if the AI makes a mistake, privacy concerns, and ensuring that its goals align with human values to prevent unintended consequences.\\n\\nWait, but I should make sure I\\'m not conflating Agentic AI with other terms. For instance, \"autonomous AI\" might be similar. Is there a specific distinction? Maybe agentic emphasizes the possession of agency, which includes not just acting but having a degree of intentionality or self-awareness. Maybe it\\'s part of the progression towards AGI, where the AI can set its own goals, but perhaps not yet at the level of true self-awareness.\\n\\nAlso, in some contexts, \"agentic\" might be used in AI ethics to discuss when an AI is given the authority to make decisions that have real-world impacts. For example, in healthcare, an AI that autonomously adjusts treatment plans based on patient data would be an agentic AI.\\n\\nI should also mention that the term isn\\'t as standardized as \"AGI\" or \"narrow AI,\" so different sources might use it slightly differently. It\\'s important to note that this is an emerging concept. Maybe reference the work of certain researchers or notable projects that use the term.\\n\\nAlternatively, maybe \"Agentic AI\" is a specific framework or model proposed by a particular group. I need to verify that. Since I can\\'t look it up, I have to rely on my existing knowledge. \\n\\nTo sum up, Agentic AI likely refers to AI systems with significant autonomy and decision-making capabilities, acting towards goals with adaptability. It\\'s part of the spectrum towards more advanced AI, but not fully general yet. Key aspects include autonomy, adaptability, goal orientation, and independent decision-making. Applications span various domains, but ethical considerations are crucial.\\n</think>\\n\\n**Agentic AI** refers to artificial intelligence systems designed to exhibit a high degree of **autonomy** and **agency**, enabling them to make independent decisions, adapt to dynamic environments, and pursue specific goals with minimal human intervention. The concept emphasizes the capacity of AI to act purposefully, akin to an \"agent\" in the sense that it can initiate actions, evaluate outcomes, and adjust strategies to achieve objectives.\\n\\n---\\n\\n### **Key Characteristics of Agentic AI**:\\n1. **Autonomy**: \\n   - Operates independently without continuous human guidance.\\n   - Can execute tasks and make decisions in real-time, even in unstructured or unpredictable environments.\\n\\n2. **Goal-Oriented Behavior**:\\n   - Driven by predefined or learned objectives (e.g., maximizing efficiency, minimizing errors, or achieving a user-defined outcome).\\n   - May prioritize goals dynamically based on context.\\n\\n3. **Adaptability**:\\n   - Learns from interactions, feedback, and environmental changes to refine strategies.\\n   - Employs machine learning or reinforcement learning to improve performance over time.\\n\\n4. **Decision-Making Capacity**:\\n   - Evaluates options, predicts outcomes, and selects the best course of action.\\n   - May incorporate ethical or contextual constraints to align decisions with human values.\\n\\n5. **Environmental Interaction**:\\n   - Actively perceives and modifies its surroundings (e.g., robots, autonomous vehicles, or chatbots interacting with users).\\n\\n---\\n\\n### **Applications of Agentic AI**:\\n- **Autonomous Systems**: Self-driving cars, drones, or industrial robots managing complex tasks.\\n- **Healthcare**: AI that adjusts treatment plans based on patient data in real-time.\\n- **Customer Service**: Chatbots with adaptive conversation flows and problem-solving.\\n- **Finance**: Trading algorithms that adjust strategies in response to market shifts.\\n- **Smart Infrastructure**: Energy grids optimizing resource distribution dynamically.\\n\\n---\\n\\n### **Distinctions from Other AI Types**:\\n- **Narrow AI (Weak AI)**: Specialized for specific tasks (e.g., image recognition) without autonomy. Agentic AI goes beyond this by integrating decision-making and adaptability.\\n- **General AI (AGI)**: Hypothetical AI with human-like cognition and *any* task. Agentic AI is a step toward AGI but focuses on structured agency rather than full general intelligence.\\n\\n---\\n\\n### **Challenges & Ethical Considerations**:\\n- **Accountability**: Who is responsible if an agentic AI makes an unethical or harmful decision?\\n- **Safety**: Ensuring systems align with human values (e.g., avoiding unintended consequences).\\n- **Transparency**: Understanding how agentic AI makes decisions (\"black-box\" challenges).\\n- **Control**: Balancing autonomy with safeguards to prevent rogue behaviors.\\n\\n---\\n\\n### **Current Development Stage**:\\nAgentic AI is still evolving. While systems like autonomous vehicles and conversational AI demonstrate aspects of agency, fully autonomous systems with robust decision-making and ethical reasoning remain aspirational. Researchers emphasize developing frameworks for **value alignment** and **safety** to manage risks as these systems advance.\\n\\n---\\n\\n### **Example Use Cases**:\\n- **Robotic Process Automation (RPA)**: Software \"agents\" automating workflows.\\n- **Minecraft-like AI**: Projects like DeepMind’s \"Agent5\" demonstrate AI that explores environments and learns through trial and error.\\n- **AI-Driven Sustainability**: Systems managing energy or waste reduction in real time.\\n\\n---\\n\\n### **Conclusion**:\\nAgentic AI represents a shift toward systems that act as proactive \"agents\" in their environments, blending autonomy, adaptability, and goal-oriented behavior. While promising for innovation, its development requires careful consideration of ethics, safety, and human oversight to ensure beneficial integration into society.', additional_kwargs={}, response_metadata={'token_usage': {'completion_tokens': 1744, 'prompt_tokens': 16, 'total_tokens': 1760, 'completion_time': 4.00036664, 'prompt_time': 0.002902172, 'queue_time': 0.123203731, 'total_time': 4.003268812}, 'model_name': 'qwen-qwq-32b', 'system_fingerprint': 'fp_28178d7ff6', 'finish_reason': 'stop', 'logprobs': None}, id='run--2ba482dd-8a60-499a-9a4b-54187ca1a7bf-0', usage_metadata={'input_tokens': 16, 'output_tokens': 1744, 'total_tokens': 1760})"
      ]
     },
     "execution_count": 6,
     "metadata": {},
     "output_type": "execute_result"
    }
   ],
   "source": [
    "## for GROQ\n",
    "from langchain_groq import ChatGroq\n",
    "model = ChatGroq(model=\"qwen-qwq-32b\")\n",
    "model.invoke(\"What is Agentic AI?\")\n",
    "\n"
   ]
  },
  {
   "cell_type": "code",
   "execution_count": 7,
   "id": "2d3abb2e",
   "metadata": {},
   "outputs": [],
   "source": [
    "### Prompt Engineering\n",
    "\n",
    "from langchain_core.prompts import ChatPromptTemplate\n",
    "\n",
    "prompt = ChatPromptTemplate.from_messages(\n",
    "    [\n",
    "        (\"system\",\"You are an Expert AI Engineer. Provide me answer based on the question\"),\n",
    "        (\"user\",\"{input}\")\n",
    "    ])"
   ]
  },
  {
   "cell_type": "code",
   "execution_count": 8,
   "id": "b472893d",
   "metadata": {},
   "outputs": [
    {
     "data": {
      "text/plain": [
       "ChatPromptTemplate(input_variables=['input'], input_types={}, partial_variables={}, messages=[SystemMessagePromptTemplate(prompt=PromptTemplate(input_variables=[], input_types={}, partial_variables={}, template='You are an Expert AI Engineer. Provide me answer based on the question'), additional_kwargs={}), HumanMessagePromptTemplate(prompt=PromptTemplate(input_variables=['input'], input_types={}, partial_variables={}, template='{input}'), additional_kwargs={})])"
      ]
     },
     "execution_count": 8,
     "metadata": {},
     "output_type": "execute_result"
    }
   ],
   "source": [
    "prompt"
   ]
  },
  {
   "cell_type": "code",
   "execution_count": 9,
   "id": "3ac52681",
   "metadata": {},
   "outputs": [
    {
     "data": {
      "text/plain": [
       "ChatGroq(client=<groq.resources.chat.completions.Completions object at 0x00000178180C0410>, async_client=<groq.resources.chat.completions.AsyncCompletions object at 0x00000178180C2350>, model_name='gemma2-9b-it', model_kwargs={}, groq_api_key=SecretStr('**********'))"
      ]
     },
     "execution_count": 9,
     "metadata": {},
     "output_type": "execute_result"
    }
   ],
   "source": [
    "from langchain_groq import ChatGroq\n",
    "model = ChatGroq(model=\"gemma2-9b-it\")\n",
    "model"
   ]
  },
  {
   "cell_type": "code",
   "execution_count": 10,
   "id": "b8b89a4c",
   "metadata": {},
   "outputs": [
    {
     "data": {
      "text/plain": [
       "ChatPromptTemplate(input_variables=['input'], input_types={}, partial_variables={}, messages=[SystemMessagePromptTemplate(prompt=PromptTemplate(input_variables=[], input_types={}, partial_variables={}, template='You are an Expert AI Engineer. Provide me answer based on the question'), additional_kwargs={}), HumanMessagePromptTemplate(prompt=PromptTemplate(input_variables=['input'], input_types={}, partial_variables={}, template='{input}'), additional_kwargs={})])\n",
       "| ChatGroq(client=<groq.resources.chat.completions.Completions object at 0x00000178180C0410>, async_client=<groq.resources.chat.completions.AsyncCompletions object at 0x00000178180C2350>, model_name='gemma2-9b-it', model_kwargs={}, groq_api_key=SecretStr('**********'))"
      ]
     },
     "execution_count": 10,
     "metadata": {},
     "output_type": "execute_result"
    }
   ],
   "source": [
    "### Chaining \n",
    "### chaining combines prompt to the llm\n",
    "chain = prompt | model\n",
    "chain"
   ]
  },
  {
   "cell_type": "code",
   "execution_count": 11,
   "id": "10ca0c19",
   "metadata": {},
   "outputs": [
    {
     "name": "stdout",
     "output_type": "stream",
     "text": [
      "Let's talk about Langsmith!  \n",
      "\n",
      "Langsmith is an exciting open-source project that's gaining traction in the AI community. It's essentially a **powerful toolkit designed to streamline the process of fine-tuning large language models (LLMs)** like those from the Gemma family.\n",
      "\n",
      "**Here's a breakdown of its key features and benefits:**\n",
      "\n",
      "* **User-Friendly Interface:** Langsmith stands out for its intuitive web-based interface. This makes it accessible to a wider range of users, even those without extensive coding experience. You can interact with the fine-tuning process visually, making it more approachable.\n",
      "* **Streamlined Workflow:** It simplifies the often complex fine-tuning process by providing a structured and guided workflow. This helps you avoid common pitfalls and get your custom LLMs up and running more efficiently.\n",
      "* **Model Management:** Langsmith offers robust model management capabilities. You can easily track different versions of your fine-tuned models, compare their performance, and roll back to previous iterations if needed.\n",
      "* **Integration with Open-Source Tools:** Langsmith is built to work seamlessly with popular open-source tools and frameworks in the AI ecosystem. This means you can leverage your existing tools and knowledge when using Langsmith.\n",
      "\n",
      "**Here are some specific things you can do with Langsmith:**\n",
      "\n",
      "* **Fine-tune LLMs for Specific Tasks:** Adapt pre-trained LLMs to excel at tasks like text summarization, question answering, code generation, or creative writing.\n",
      "\n",
      "* **Customize Model Behavior:**  Shape the output style and tone of your models to align with your specific needs and preferences.\n",
      "* **Experiment with Different Techniques:** Explore various fine-tuning techniques and hyperparameters to optimize your models' performance.\n",
      "\n",
      "\n",
      "**Getting Started with Langsmith:**\n",
      "\n",
      "* **Check out the official documentation:** [https://www.philschofield.com/blog/2023/07/19/langsmith-open-source-llm-fine-tuning/](https://www.philschofield.com/blog/2023/07/19/langsmith-open-source-llm-fine-tuning/)\n",
      "* **Explore the GitHub repository:** [https://github.com/philschofield/langsmith](https://github.com/philschofield/langsmith)\n",
      "\n",
      "\n",
      "Let me know if you have any other questions about Langsmith or want to dive deeper into a specific aspect!\n",
      "\n"
     ]
    }
   ],
   "source": [
    "response = chain.invoke({\"input\":\"Can you tell me about langsmith\"})\n",
    "print(response.content)"
   ]
  },
  {
   "cell_type": "code",
   "execution_count": 12,
   "id": "20c9cc72",
   "metadata": {},
   "outputs": [
    {
     "name": "stdout",
     "output_type": "stream",
     "text": [
      "## Langsmith: Your Open-Source Playground for Building with Language Models\n",
      "\n",
      "Langsmith is a powerful, open-source tool designed to simplify the process of working with large language models (LLMs). Think of it as a collaborative workshop where you can:\n",
      "\n",
      "**1. Fine-tune LLMs:** \n",
      "\n",
      "* **Customize existing models:**  Adapt pre-trained LLMs like OpenAI's GPT to your specific needs and domains. \n",
      "* **Train your own models:**  Build custom models from scratch using your own datasets, fostering greater control and privacy.\n",
      "\n",
      "**2. Evaluate and Compare Models:**\n",
      "\n",
      "* **Benchmark performance:** Test different LLMs on a variety of tasks to identify the best fit for your application.\n",
      "* **Analyze model behavior:**  Gain insights into how models generate responses and identify potential biases or limitations.\n",
      "\n",
      "**3. Streamline Development Workflow:**\n",
      "\n",
      "* **Interactive prompt engineering:**  Experiment with prompts and observe the model's output in real-time.\n",
      "* **Data management:** Easily load, preprocess, and manage your datasets for training and evaluation.\n",
      "\n",
      "**Langsmith's Key Features:**\n",
      "\n",
      "* **Web-based interface:**  Access and use Langsmith through a user-friendly web platform.\n",
      "* **Python SDK:** Leverage the power of Python for more advanced customization and automation.\n",
      "* **Community-driven:**  Benefit from a growing community of developers, researchers, and enthusiasts sharing knowledge and resources.\n",
      "\n",
      "**Why Use Langsmith?**\n",
      "\n",
      "* **Open-source and accessible:**  No proprietary restrictions or hidden costs.\n",
      "* **Flexible and customizable:**  Tailor the platform to your specific needs and workflows.\n",
      "* **Accelerated development:**  Streamline your LLM development process and focus on innovation.\n",
      "\n",
      "**Getting Started with Langsmith:**\n",
      "\n",
      "* Visit the official Langsmith website: [https://www.langsmith.com/](https://www.langsmith.com/)\n",
      "* Explore the documentation and tutorials: [https://docs.langsmith.com/](https://docs.langsmith.com/)\n",
      "* Join the community forum: [https://community.langsmith.com/](https://community.langsmith.com/)\n",
      "\n",
      "Langsmith empowers anyone, from beginners to experienced researchers, to unlock the potential of language models and build innovative applications.\n",
      "\n"
     ]
    }
   ],
   "source": [
    "### OutPutParser\n",
    "## just a way to dispaly the output\n",
    "\n",
    "from langchain_core.output_parsers import StrOutputParser\n",
    "output_parser = StrOutputParser()\n",
    "chain = prompt | model | output_parser\n",
    "response = chain.invoke({\"input\":\"Can you tell me about Langsmith\"})\n",
    "print(response)"
   ]
  },
  {
   "cell_type": "code",
   "execution_count": 13,
   "id": "bf160653",
   "metadata": {},
   "outputs": [],
   "source": [
    "## JSON output parser with chat prompt template\n",
    "\n",
    "from langchain_core.prompts import ChatPromptTemplate\n",
    "\n",
    "template = ChatPromptTemplate([\n",
    "    (\"system\", \"You are a helpful AI bot. Your name is {name}.\"),\n",
    "    (\"human\", \"Hello, how are you doing?\"),\n",
    "    (\"ai\", \"I'm doing well, thanks!\"),\n",
    "    (\"human\", \"{user_input}\"),\n",
    "])\n",
    "\n",
    "# prompt_value = template.invoke(\n",
    "#     {\n",
    "#         \"name\": \"Bob\",\n",
    "#         \"user_input\": \"What is your name?\"\n",
    "#     }\n",
    "# )\n",
    "\n"
   ]
  },
  {
   "cell_type": "code",
   "execution_count": 14,
   "id": "6ada2676",
   "metadata": {},
   "outputs": [
    {
     "name": "stdout",
     "output_type": "stream",
     "text": [
      "My name is Bob! I'm happy to help with any questions you have. 😊  What can I do for you today?\n",
      "\n"
     ]
    }
   ],
   "source": [
    "chain = template | model | output_parser\n",
    "response = chain.invoke(\n",
    "    {\n",
    "        \"name\": \"Bob\",\n",
    "        \"user_input\": \"What is your name?\"\n",
    "    }\n",
    ")\n",
    "print(response)"
   ]
  },
  {
   "cell_type": "code",
   "execution_count": null,
   "id": "99bfb35b",
   "metadata": {},
   "outputs": [],
   "source": []
  }
 ],
 "metadata": {
  "kernelspec": {
   "display_name": "myenv",
   "language": "python",
   "name": "python3"
  },
  "language_info": {
   "codemirror_mode": {
    "name": "ipython",
    "version": 3
   },
   "file_extension": ".py",
   "mimetype": "text/x-python",
   "name": "python",
   "nbconvert_exporter": "python",
   "pygments_lexer": "ipython3",
   "version": "3.13.2"
  }
 },
 "nbformat": 4,
 "nbformat_minor": 5
}
